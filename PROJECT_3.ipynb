{
 "cells": [
  {
   "cell_type": "markdown",
   "id": "09e4b0bf",
   "metadata": {},
   "source": [
    "# Importing data and libraries"
   ]
  },
  {
   "cell_type": "code",
   "execution_count": 1,
   "id": "b19fa7fe",
   "metadata": {},
   "outputs": [],
   "source": [
    "import numpy as np\n",
    "import pandas as pd\n",
    "import seaborn as sns\n",
    "from matplotlib import pyplot as plt\n",
    "from matplotlib import style\n",
    "import datetime\n",
    "import matplotlib.pyplot as plt\n",
    "from sklearn.model_selection import train_test_split\n",
    "from sklearn.metrics import accuracy_score, confusion_matrix\n",
    "from sklearn.datasets import make_classification\n",
    "from sklearn import preprocessing\n",
    "\n",
    "from sklearn import linear_model\n",
    "from sklearn.linear_model import LogisticRegression\n",
    "from sklearn.ensemble import RandomForestClassifier\n",
    "from sklearn.tree import DecisionTreeClassifier\n",
    "from sklearn.neighbors import KNeighborsClassifier\n",
    "from sklearn.svm import LinearSVC, SVC\n",
    "from sklearn.naive_bayes import GaussianNB\n",
    "from sklearn.metrics import mean_squared_error, r2_score\n",
    "\n",
    "from xgboost import XGBClassifier\n",
    "from collections import Counter\n"
   ]
  },
  {
   "cell_type": "code",
   "execution_count": 2,
   "id": "440e7b78",
   "metadata": {},
   "outputs": [],
   "source": [
    "australia_weather = pd.read_excel(\"avustralya_hava.xlsx\")"
   ]
  },
  {
   "cell_type": "code",
   "execution_count": 3,
   "id": "a07acd5f",
   "metadata": {},
   "outputs": [
    {
     "data": {
      "text/plain": [
       "(145460, 15)"
      ]
     },
     "execution_count": 3,
     "metadata": {},
     "output_type": "execute_result"
    }
   ],
   "source": [
    "australia_weather.shape"
   ]
  },
  {
   "cell_type": "code",
   "execution_count": 4,
   "id": "cf3a13b4",
   "metadata": {},
   "outputs": [
    {
     "data": {
      "text/html": [
       "<div>\n",
       "<style scoped>\n",
       "    .dataframe tbody tr th:only-of-type {\n",
       "        vertical-align: middle;\n",
       "    }\n",
       "\n",
       "    .dataframe tbody tr th {\n",
       "        vertical-align: top;\n",
       "    }\n",
       "\n",
       "    .dataframe thead th {\n",
       "        text-align: right;\n",
       "    }\n",
       "</style>\n",
       "<table border=\"1\" class=\"dataframe\">\n",
       "  <thead>\n",
       "    <tr style=\"text-align: right;\">\n",
       "      <th></th>\n",
       "      <th>Date</th>\n",
       "      <th>Location</th>\n",
       "      <th>MinTemp</th>\n",
       "      <th>MaxTemp</th>\n",
       "      <th>Rainfall</th>\n",
       "      <th>WindGustDir</th>\n",
       "      <th>WindGustSpeed</th>\n",
       "      <th>Humidity9am</th>\n",
       "      <th>Humidity3pm</th>\n",
       "      <th>Pressure9am</th>\n",
       "      <th>Pressure3pm</th>\n",
       "      <th>Temp9am</th>\n",
       "      <th>Temp3pm</th>\n",
       "      <th>RainToday</th>\n",
       "      <th>RainTomorrow</th>\n",
       "    </tr>\n",
       "  </thead>\n",
       "  <tbody>\n",
       "    <tr>\n",
       "      <th>0</th>\n",
       "      <td>2008-12-01</td>\n",
       "      <td>Albury</td>\n",
       "      <td>13.4</td>\n",
       "      <td>22.9</td>\n",
       "      <td>0.6</td>\n",
       "      <td>W</td>\n",
       "      <td>44.0</td>\n",
       "      <td>71.0</td>\n",
       "      <td>22.0</td>\n",
       "      <td>1007.7</td>\n",
       "      <td>1007.1</td>\n",
       "      <td>16.9</td>\n",
       "      <td>21.8</td>\n",
       "      <td>No</td>\n",
       "      <td>No</td>\n",
       "    </tr>\n",
       "    <tr>\n",
       "      <th>1</th>\n",
       "      <td>2008-12-02</td>\n",
       "      <td>Albury</td>\n",
       "      <td>7.4</td>\n",
       "      <td>25.1</td>\n",
       "      <td>0.0</td>\n",
       "      <td>WNW</td>\n",
       "      <td>44.0</td>\n",
       "      <td>44.0</td>\n",
       "      <td>25.0</td>\n",
       "      <td>1010.6</td>\n",
       "      <td>1007.8</td>\n",
       "      <td>17.2</td>\n",
       "      <td>24.3</td>\n",
       "      <td>No</td>\n",
       "      <td>No</td>\n",
       "    </tr>\n",
       "    <tr>\n",
       "      <th>2</th>\n",
       "      <td>2008-12-03</td>\n",
       "      <td>Albury</td>\n",
       "      <td>12.9</td>\n",
       "      <td>25.7</td>\n",
       "      <td>0.0</td>\n",
       "      <td>WSW</td>\n",
       "      <td>46.0</td>\n",
       "      <td>38.0</td>\n",
       "      <td>30.0</td>\n",
       "      <td>1007.6</td>\n",
       "      <td>1008.7</td>\n",
       "      <td>21.0</td>\n",
       "      <td>23.2</td>\n",
       "      <td>No</td>\n",
       "      <td>No</td>\n",
       "    </tr>\n",
       "    <tr>\n",
       "      <th>3</th>\n",
       "      <td>2008-12-04</td>\n",
       "      <td>Albury</td>\n",
       "      <td>9.2</td>\n",
       "      <td>28.0</td>\n",
       "      <td>0.0</td>\n",
       "      <td>NE</td>\n",
       "      <td>24.0</td>\n",
       "      <td>45.0</td>\n",
       "      <td>16.0</td>\n",
       "      <td>1017.6</td>\n",
       "      <td>1012.8</td>\n",
       "      <td>18.1</td>\n",
       "      <td>26.5</td>\n",
       "      <td>No</td>\n",
       "      <td>No</td>\n",
       "    </tr>\n",
       "    <tr>\n",
       "      <th>4</th>\n",
       "      <td>2008-12-05</td>\n",
       "      <td>Albury</td>\n",
       "      <td>17.5</td>\n",
       "      <td>32.3</td>\n",
       "      <td>1.0</td>\n",
       "      <td>W</td>\n",
       "      <td>41.0</td>\n",
       "      <td>82.0</td>\n",
       "      <td>33.0</td>\n",
       "      <td>1010.8</td>\n",
       "      <td>1006.0</td>\n",
       "      <td>17.8</td>\n",
       "      <td>29.7</td>\n",
       "      <td>No</td>\n",
       "      <td>No</td>\n",
       "    </tr>\n",
       "    <tr>\n",
       "      <th>5</th>\n",
       "      <td>2008-12-06</td>\n",
       "      <td>Albury</td>\n",
       "      <td>14.6</td>\n",
       "      <td>29.7</td>\n",
       "      <td>0.2</td>\n",
       "      <td>WNW</td>\n",
       "      <td>56.0</td>\n",
       "      <td>55.0</td>\n",
       "      <td>23.0</td>\n",
       "      <td>1009.2</td>\n",
       "      <td>1005.4</td>\n",
       "      <td>20.6</td>\n",
       "      <td>28.9</td>\n",
       "      <td>No</td>\n",
       "      <td>No</td>\n",
       "    </tr>\n",
       "    <tr>\n",
       "      <th>6</th>\n",
       "      <td>2008-12-07</td>\n",
       "      <td>Albury</td>\n",
       "      <td>14.3</td>\n",
       "      <td>25.0</td>\n",
       "      <td>0.0</td>\n",
       "      <td>W</td>\n",
       "      <td>50.0</td>\n",
       "      <td>49.0</td>\n",
       "      <td>19.0</td>\n",
       "      <td>1009.6</td>\n",
       "      <td>1008.2</td>\n",
       "      <td>18.1</td>\n",
       "      <td>24.6</td>\n",
       "      <td>No</td>\n",
       "      <td>No</td>\n",
       "    </tr>\n",
       "    <tr>\n",
       "      <th>7</th>\n",
       "      <td>2008-12-08</td>\n",
       "      <td>Albury</td>\n",
       "      <td>7.7</td>\n",
       "      <td>26.7</td>\n",
       "      <td>0.0</td>\n",
       "      <td>W</td>\n",
       "      <td>35.0</td>\n",
       "      <td>48.0</td>\n",
       "      <td>19.0</td>\n",
       "      <td>1013.4</td>\n",
       "      <td>1010.1</td>\n",
       "      <td>16.3</td>\n",
       "      <td>25.5</td>\n",
       "      <td>No</td>\n",
       "      <td>No</td>\n",
       "    </tr>\n",
       "    <tr>\n",
       "      <th>8</th>\n",
       "      <td>2008-12-09</td>\n",
       "      <td>Albury</td>\n",
       "      <td>9.7</td>\n",
       "      <td>31.9</td>\n",
       "      <td>0.0</td>\n",
       "      <td>NNW</td>\n",
       "      <td>80.0</td>\n",
       "      <td>42.0</td>\n",
       "      <td>9.0</td>\n",
       "      <td>1008.9</td>\n",
       "      <td>1003.6</td>\n",
       "      <td>18.3</td>\n",
       "      <td>30.2</td>\n",
       "      <td>No</td>\n",
       "      <td>Yes</td>\n",
       "    </tr>\n",
       "    <tr>\n",
       "      <th>9</th>\n",
       "      <td>2008-12-10</td>\n",
       "      <td>Albury</td>\n",
       "      <td>13.1</td>\n",
       "      <td>30.1</td>\n",
       "      <td>1.4</td>\n",
       "      <td>W</td>\n",
       "      <td>28.0</td>\n",
       "      <td>58.0</td>\n",
       "      <td>27.0</td>\n",
       "      <td>1007.0</td>\n",
       "      <td>1005.7</td>\n",
       "      <td>20.1</td>\n",
       "      <td>28.2</td>\n",
       "      <td>Yes</td>\n",
       "      <td>No</td>\n",
       "    </tr>\n",
       "  </tbody>\n",
       "</table>\n",
       "</div>"
      ],
      "text/plain": [
       "        Date Location  MinTemp  MaxTemp  Rainfall WindGustDir  WindGustSpeed  \\\n",
       "0 2008-12-01   Albury     13.4     22.9       0.6           W           44.0   \n",
       "1 2008-12-02   Albury      7.4     25.1       0.0         WNW           44.0   \n",
       "2 2008-12-03   Albury     12.9     25.7       0.0         WSW           46.0   \n",
       "3 2008-12-04   Albury      9.2     28.0       0.0          NE           24.0   \n",
       "4 2008-12-05   Albury     17.5     32.3       1.0           W           41.0   \n",
       "5 2008-12-06   Albury     14.6     29.7       0.2         WNW           56.0   \n",
       "6 2008-12-07   Albury     14.3     25.0       0.0           W           50.0   \n",
       "7 2008-12-08   Albury      7.7     26.7       0.0           W           35.0   \n",
       "8 2008-12-09   Albury      9.7     31.9       0.0         NNW           80.0   \n",
       "9 2008-12-10   Albury     13.1     30.1       1.4           W           28.0   \n",
       "\n",
       "   Humidity9am  Humidity3pm  Pressure9am  Pressure3pm  Temp9am  Temp3pm  \\\n",
       "0         71.0         22.0       1007.7       1007.1     16.9     21.8   \n",
       "1         44.0         25.0       1010.6       1007.8     17.2     24.3   \n",
       "2         38.0         30.0       1007.6       1008.7     21.0     23.2   \n",
       "3         45.0         16.0       1017.6       1012.8     18.1     26.5   \n",
       "4         82.0         33.0       1010.8       1006.0     17.8     29.7   \n",
       "5         55.0         23.0       1009.2       1005.4     20.6     28.9   \n",
       "6         49.0         19.0       1009.6       1008.2     18.1     24.6   \n",
       "7         48.0         19.0       1013.4       1010.1     16.3     25.5   \n",
       "8         42.0          9.0       1008.9       1003.6     18.3     30.2   \n",
       "9         58.0         27.0       1007.0       1005.7     20.1     28.2   \n",
       "\n",
       "  RainToday RainTomorrow  \n",
       "0        No           No  \n",
       "1        No           No  \n",
       "2        No           No  \n",
       "3        No           No  \n",
       "4        No           No  \n",
       "5        No           No  \n",
       "6        No           No  \n",
       "7        No           No  \n",
       "8        No          Yes  \n",
       "9       Yes           No  "
      ]
     },
     "execution_count": 4,
     "metadata": {},
     "output_type": "execute_result"
    }
   ],
   "source": [
    "australia_weather.head(10)"
   ]
  },
  {
   "cell_type": "code",
   "execution_count": 5,
   "id": "413350be",
   "metadata": {},
   "outputs": [],
   "source": [
    "new_australia_weather = australia_weather.replace(\"NA\",np.nan)"
   ]
  },
  {
   "cell_type": "code",
   "execution_count": 6,
   "id": "5a52b262",
   "metadata": {},
   "outputs": [
    {
     "name": "stdout",
     "output_type": "stream",
     "text": [
      "<class 'pandas.core.frame.DataFrame'>\n",
      "RangeIndex: 145460 entries, 0 to 145459\n",
      "Data columns (total 15 columns):\n",
      " #   Column         Non-Null Count   Dtype         \n",
      "---  ------         --------------   -----         \n",
      " 0   Date           145460 non-null  datetime64[ns]\n",
      " 1   Location       145460 non-null  object        \n",
      " 2   MinTemp        143975 non-null  float64       \n",
      " 3   MaxTemp        144199 non-null  float64       \n",
      " 4   Rainfall       142199 non-null  float64       \n",
      " 5   WindGustDir    135134 non-null  object        \n",
      " 6   WindGustSpeed  135197 non-null  float64       \n",
      " 7   Humidity9am    142806 non-null  float64       \n",
      " 8   Humidity3pm    140953 non-null  float64       \n",
      " 9   Pressure9am    130395 non-null  float64       \n",
      " 10  Pressure3pm    130432 non-null  float64       \n",
      " 11  Temp9am        143693 non-null  float64       \n",
      " 12  Temp3pm        141851 non-null  float64       \n",
      " 13  RainToday      142199 non-null  object        \n",
      " 14  RainTomorrow   142193 non-null  object        \n",
      "dtypes: datetime64[ns](1), float64(10), object(4)\n",
      "memory usage: 16.6+ MB\n"
     ]
    }
   ],
   "source": [
    "new_australia_weather.info()"
   ]
  },
  {
   "cell_type": "code",
   "execution_count": 7,
   "id": "cc43f0c7",
   "metadata": {},
   "outputs": [
    {
     "data": {
      "text/html": [
       "<div>\n",
       "<style scoped>\n",
       "    .dataframe tbody tr th:only-of-type {\n",
       "        vertical-align: middle;\n",
       "    }\n",
       "\n",
       "    .dataframe tbody tr th {\n",
       "        vertical-align: top;\n",
       "    }\n",
       "\n",
       "    .dataframe thead th {\n",
       "        text-align: right;\n",
       "    }\n",
       "</style>\n",
       "<table border=\"1\" class=\"dataframe\">\n",
       "  <thead>\n",
       "    <tr style=\"text-align: right;\">\n",
       "      <th></th>\n",
       "      <th>Total</th>\n",
       "      <th>%</th>\n",
       "    </tr>\n",
       "  </thead>\n",
       "  <tbody>\n",
       "    <tr>\n",
       "      <th>Pressure9am</th>\n",
       "      <td>15065</td>\n",
       "      <td>10.4</td>\n",
       "    </tr>\n",
       "    <tr>\n",
       "      <th>Pressure3pm</th>\n",
       "      <td>15028</td>\n",
       "      <td>10.3</td>\n",
       "    </tr>\n",
       "    <tr>\n",
       "      <th>WindGustDir</th>\n",
       "      <td>10326</td>\n",
       "      <td>7.1</td>\n",
       "    </tr>\n",
       "    <tr>\n",
       "      <th>WindGustSpeed</th>\n",
       "      <td>10263</td>\n",
       "      <td>7.1</td>\n",
       "    </tr>\n",
       "    <tr>\n",
       "      <th>Humidity3pm</th>\n",
       "      <td>4507</td>\n",
       "      <td>3.1</td>\n",
       "    </tr>\n",
       "    <tr>\n",
       "      <th>Temp3pm</th>\n",
       "      <td>3609</td>\n",
       "      <td>2.5</td>\n",
       "    </tr>\n",
       "    <tr>\n",
       "      <th>RainTomorrow</th>\n",
       "      <td>3267</td>\n",
       "      <td>2.2</td>\n",
       "    </tr>\n",
       "    <tr>\n",
       "      <th>Rainfall</th>\n",
       "      <td>3261</td>\n",
       "      <td>2.2</td>\n",
       "    </tr>\n",
       "    <tr>\n",
       "      <th>RainToday</th>\n",
       "      <td>3261</td>\n",
       "      <td>2.2</td>\n",
       "    </tr>\n",
       "    <tr>\n",
       "      <th>Humidity9am</th>\n",
       "      <td>2654</td>\n",
       "      <td>1.8</td>\n",
       "    </tr>\n",
       "  </tbody>\n",
       "</table>\n",
       "</div>"
      ],
      "text/plain": [
       "               Total     %\n",
       "Pressure9am    15065  10.4\n",
       "Pressure3pm    15028  10.3\n",
       "WindGustDir    10326   7.1\n",
       "WindGustSpeed  10263   7.1\n",
       "Humidity3pm     4507   3.1\n",
       "Temp3pm         3609   2.5\n",
       "RainTomorrow    3267   2.2\n",
       "Rainfall        3261   2.2\n",
       "RainToday       3261   2.2\n",
       "Humidity9am     2654   1.8"
      ]
     },
     "execution_count": 7,
     "metadata": {},
     "output_type": "execute_result"
    }
   ],
   "source": [
    "# Show rest of NaN values\n",
    "total = new_australia_weather.isnull().sum().sort_values(ascending=False)\n",
    "percent_1 = new_australia_weather.isnull().sum()/new_australia_weather.isnull().count()*100\n",
    "percent_2 = (round(percent_1, 1)).sort_values(ascending=False)\n",
    "missing_data = pd.concat([total, percent_2], axis=1, keys=['Total', '%'])\n",
    "missing_data.head(10)"
   ]
  },
  {
   "cell_type": "markdown",
   "id": "620d37af",
   "metadata": {},
   "source": [
    "# Data Preprocessing"
   ]
  },
  {
   "cell_type": "code",
   "execution_count": 8,
   "id": "bc227621",
   "metadata": {},
   "outputs": [],
   "source": [
    "# drop NaN values from RainToday and RainTomorrow(which is target column)\n",
    "new_australia_weather.dropna(subset = [\"RainToday\", \"RainTomorrow\"], inplace = True)"
   ]
  },
  {
   "cell_type": "code",
   "execution_count": 9,
   "id": "c35d27b8",
   "metadata": {},
   "outputs": [],
   "source": [
    "# Extract Categorical(Object) and Numeric(Float64) values from dataset\n",
    "categorical_column = [x for x in new_australia_weather.columns if new_australia_weather[x].dtype == \"O\"]\n",
    "numeric_column = [x for x in new_australia_weather.columns if new_australia_weather[x].dtype == \"float64\"]"
   ]
  },
  {
   "cell_type": "code",
   "execution_count": 10,
   "id": "c895696e",
   "metadata": {},
   "outputs": [],
   "source": [
    "def show_column_number_range(dataframe, column):\n",
    "    column_min = np.min(dataframe[column])\n",
    "    column_max = np.max(dataframe[column])\n",
    "    print(f\"{column} between {column_min} and {column_max}\")"
   ]
  },
  {
   "cell_type": "code",
   "execution_count": 11,
   "id": "b748f6ea",
   "metadata": {},
   "outputs": [
    {
     "name": "stdout",
     "output_type": "stream",
     "text": [
      "MinTemp between -8.5 and 33.9\n",
      "MaxTemp between -4.8 and 48.1\n",
      "Rainfall between 0.0 and 371.0\n",
      "WindGustSpeed between 6.0 and 135.0\n",
      "Humidity9am between 0.0 and 100.0\n",
      "Humidity3pm between 0.0 and 100.0\n",
      "Pressure9am between 980.5 and 1041.0\n",
      "Pressure3pm between 977.1 and 1039.6\n",
      "Temp9am between -7.2 and 40.2\n",
      "Temp3pm between -5.4 and 46.7\n"
     ]
    }
   ],
   "source": [
    "for col in new_australia_weather[numeric_column]:\n",
    "    show_column_number_range(new_australia_weather, col)"
   ]
  },
  {
   "cell_type": "code",
   "execution_count": 12,
   "id": "ac72d6e0",
   "metadata": {},
   "outputs": [],
   "source": [
    "# replace nan values with instance(mean - std, mean + std)\n",
    "def replace_nan_values(dataframe, column):\n",
    "    data = [dataframe]\n",
    "    for df_col in data:\n",
    "        mean = dataframe[column].mean()\n",
    "        std = dataframe[column].std()\n",
    "        is_null = df_col[column].isnull().sum()\n",
    "        # compute random numbers between the mean, std and is_null\n",
    "        rand_temp = np.random.randint(mean - std, mean + std, size = is_null)\n",
    "        # fill NaN values in Age column with random values generated\n",
    "        min_temp = df_col[column].copy()\n",
    "        min_temp[np.isnan(min_temp)] = rand_temp\n",
    "        df_col[column] = min_temp\n",
    "        df_col[column] = dataframe[column].astype(float)"
   ]
  },
  {
   "cell_type": "code",
   "execution_count": 13,
   "id": "f89fe604",
   "metadata": {},
   "outputs": [],
   "source": [
    "columns_to_change = [\"MinTemp\", \"MaxTemp\", \"Humidity9am\", \"Humidity3pm\", \"Pressure9am\", \n",
    "                     \"Pressure3pm\", \"Temp9am\", \"Temp3pm\", \"Rainfall\", \"WindGustSpeed\"]\n",
    "\n",
    "for col in new_australia_weather[columns_to_change]:\n",
    "    replace_nan_values(new_australia_weather, col)"
   ]
  },
  {
   "cell_type": "code",
   "execution_count": 14,
   "id": "7fe6bb8c",
   "metadata": {},
   "outputs": [
    {
     "name": "stdout",
     "output_type": "stream",
     "text": [
      "<class 'pandas.core.frame.DataFrame'>\n",
      "Int64Index: 140787 entries, 0 to 145458\n",
      "Data columns (total 15 columns):\n",
      " #   Column         Non-Null Count   Dtype         \n",
      "---  ------         --------------   -----         \n",
      " 0   Date           140787 non-null  datetime64[ns]\n",
      " 1   Location       140787 non-null  object        \n",
      " 2   MinTemp        140787 non-null  float64       \n",
      " 3   MaxTemp        140787 non-null  float64       \n",
      " 4   Rainfall       140787 non-null  float64       \n",
      " 5   WindGustDir    131624 non-null  object        \n",
      " 6   WindGustSpeed  140787 non-null  float64       \n",
      " 7   Humidity9am    140787 non-null  float64       \n",
      " 8   Humidity3pm    140787 non-null  float64       \n",
      " 9   Pressure9am    140787 non-null  float64       \n",
      " 10  Pressure3pm    140787 non-null  float64       \n",
      " 11  Temp9am        140787 non-null  float64       \n",
      " 12  Temp3pm        140787 non-null  float64       \n",
      " 13  RainToday      140787 non-null  object        \n",
      " 14  RainTomorrow   140787 non-null  object        \n",
      "dtypes: datetime64[ns](1), float64(10), object(4)\n",
      "memory usage: 17.2+ MB\n"
     ]
    }
   ],
   "source": [
    "new_australia_weather.info()"
   ]
  },
  {
   "cell_type": "code",
   "execution_count": 15,
   "id": "f70b4f77",
   "metadata": {},
   "outputs": [],
   "source": [
    "# Calculate temp difference with MinTemp and MaxTemp\n",
    "new_australia_weather.insert(4, \"Temp_difference\", new_australia_weather['MaxTemp']- new_australia_weather['MinTemp'])"
   ]
  },
  {
   "cell_type": "code",
   "execution_count": 16,
   "id": "ba42d839",
   "metadata": {},
   "outputs": [],
   "source": [
    "# Converting object to date_time and extract month\n",
    "new_australia_weather[\"Date\"] = pd.to_datetime(new_australia_weather[\"Date\"])\n",
    "new_australia_weather.insert(1, \"Month\", new_australia_weather[\"Date\"].dt.month)\n",
    "new_australia_weather.drop([\"Date\"], axis = 1, inplace=True)"
   ]
  },
  {
   "cell_type": "code",
   "execution_count": 17,
   "id": "d6ef65fc",
   "metadata": {},
   "outputs": [
    {
     "data": {
      "text/html": [
       "<div>\n",
       "<style scoped>\n",
       "    .dataframe tbody tr th:only-of-type {\n",
       "        vertical-align: middle;\n",
       "    }\n",
       "\n",
       "    .dataframe tbody tr th {\n",
       "        vertical-align: top;\n",
       "    }\n",
       "\n",
       "    .dataframe thead th {\n",
       "        text-align: right;\n",
       "    }\n",
       "</style>\n",
       "<table border=\"1\" class=\"dataframe\">\n",
       "  <thead>\n",
       "    <tr style=\"text-align: right;\">\n",
       "      <th></th>\n",
       "      <th>Month</th>\n",
       "      <th>Location</th>\n",
       "      <th>MinTemp</th>\n",
       "      <th>MaxTemp</th>\n",
       "      <th>Temp_difference</th>\n",
       "      <th>Rainfall</th>\n",
       "      <th>WindGustDir</th>\n",
       "      <th>WindGustSpeed</th>\n",
       "      <th>Humidity9am</th>\n",
       "      <th>Humidity3pm</th>\n",
       "      <th>Pressure9am</th>\n",
       "      <th>Pressure3pm</th>\n",
       "      <th>Temp9am</th>\n",
       "      <th>Temp3pm</th>\n",
       "      <th>RainToday</th>\n",
       "      <th>RainTomorrow</th>\n",
       "    </tr>\n",
       "  </thead>\n",
       "  <tbody>\n",
       "    <tr>\n",
       "      <th>0</th>\n",
       "      <td>12</td>\n",
       "      <td>Albury</td>\n",
       "      <td>13.4</td>\n",
       "      <td>22.9</td>\n",
       "      <td>9.5</td>\n",
       "      <td>0.6</td>\n",
       "      <td>W</td>\n",
       "      <td>44.0</td>\n",
       "      <td>71.0</td>\n",
       "      <td>22.0</td>\n",
       "      <td>1007.7</td>\n",
       "      <td>1007.1</td>\n",
       "      <td>16.9</td>\n",
       "      <td>21.8</td>\n",
       "      <td>No</td>\n",
       "      <td>No</td>\n",
       "    </tr>\n",
       "    <tr>\n",
       "      <th>1</th>\n",
       "      <td>12</td>\n",
       "      <td>Albury</td>\n",
       "      <td>7.4</td>\n",
       "      <td>25.1</td>\n",
       "      <td>17.7</td>\n",
       "      <td>0.0</td>\n",
       "      <td>WNW</td>\n",
       "      <td>44.0</td>\n",
       "      <td>44.0</td>\n",
       "      <td>25.0</td>\n",
       "      <td>1010.6</td>\n",
       "      <td>1007.8</td>\n",
       "      <td>17.2</td>\n",
       "      <td>24.3</td>\n",
       "      <td>No</td>\n",
       "      <td>No</td>\n",
       "    </tr>\n",
       "    <tr>\n",
       "      <th>2</th>\n",
       "      <td>12</td>\n",
       "      <td>Albury</td>\n",
       "      <td>12.9</td>\n",
       "      <td>25.7</td>\n",
       "      <td>12.8</td>\n",
       "      <td>0.0</td>\n",
       "      <td>WSW</td>\n",
       "      <td>46.0</td>\n",
       "      <td>38.0</td>\n",
       "      <td>30.0</td>\n",
       "      <td>1007.6</td>\n",
       "      <td>1008.7</td>\n",
       "      <td>21.0</td>\n",
       "      <td>23.2</td>\n",
       "      <td>No</td>\n",
       "      <td>No</td>\n",
       "    </tr>\n",
       "    <tr>\n",
       "      <th>3</th>\n",
       "      <td>12</td>\n",
       "      <td>Albury</td>\n",
       "      <td>9.2</td>\n",
       "      <td>28.0</td>\n",
       "      <td>18.8</td>\n",
       "      <td>0.0</td>\n",
       "      <td>NE</td>\n",
       "      <td>24.0</td>\n",
       "      <td>45.0</td>\n",
       "      <td>16.0</td>\n",
       "      <td>1017.6</td>\n",
       "      <td>1012.8</td>\n",
       "      <td>18.1</td>\n",
       "      <td>26.5</td>\n",
       "      <td>No</td>\n",
       "      <td>No</td>\n",
       "    </tr>\n",
       "    <tr>\n",
       "      <th>4</th>\n",
       "      <td>12</td>\n",
       "      <td>Albury</td>\n",
       "      <td>17.5</td>\n",
       "      <td>32.3</td>\n",
       "      <td>14.8</td>\n",
       "      <td>1.0</td>\n",
       "      <td>W</td>\n",
       "      <td>41.0</td>\n",
       "      <td>82.0</td>\n",
       "      <td>33.0</td>\n",
       "      <td>1010.8</td>\n",
       "      <td>1006.0</td>\n",
       "      <td>17.8</td>\n",
       "      <td>29.7</td>\n",
       "      <td>No</td>\n",
       "      <td>No</td>\n",
       "    </tr>\n",
       "    <tr>\n",
       "      <th>...</th>\n",
       "      <td>...</td>\n",
       "      <td>...</td>\n",
       "      <td>...</td>\n",
       "      <td>...</td>\n",
       "      <td>...</td>\n",
       "      <td>...</td>\n",
       "      <td>...</td>\n",
       "      <td>...</td>\n",
       "      <td>...</td>\n",
       "      <td>...</td>\n",
       "      <td>...</td>\n",
       "      <td>...</td>\n",
       "      <td>...</td>\n",
       "      <td>...</td>\n",
       "      <td>...</td>\n",
       "      <td>...</td>\n",
       "    </tr>\n",
       "    <tr>\n",
       "      <th>145454</th>\n",
       "      <td>6</td>\n",
       "      <td>Uluru</td>\n",
       "      <td>3.5</td>\n",
       "      <td>21.8</td>\n",
       "      <td>18.3</td>\n",
       "      <td>0.0</td>\n",
       "      <td>E</td>\n",
       "      <td>31.0</td>\n",
       "      <td>59.0</td>\n",
       "      <td>27.0</td>\n",
       "      <td>1024.7</td>\n",
       "      <td>1021.2</td>\n",
       "      <td>9.4</td>\n",
       "      <td>20.9</td>\n",
       "      <td>No</td>\n",
       "      <td>No</td>\n",
       "    </tr>\n",
       "    <tr>\n",
       "      <th>145455</th>\n",
       "      <td>6</td>\n",
       "      <td>Uluru</td>\n",
       "      <td>2.8</td>\n",
       "      <td>23.4</td>\n",
       "      <td>20.6</td>\n",
       "      <td>0.0</td>\n",
       "      <td>E</td>\n",
       "      <td>31.0</td>\n",
       "      <td>51.0</td>\n",
       "      <td>24.0</td>\n",
       "      <td>1024.6</td>\n",
       "      <td>1020.3</td>\n",
       "      <td>10.1</td>\n",
       "      <td>22.4</td>\n",
       "      <td>No</td>\n",
       "      <td>No</td>\n",
       "    </tr>\n",
       "    <tr>\n",
       "      <th>145456</th>\n",
       "      <td>6</td>\n",
       "      <td>Uluru</td>\n",
       "      <td>3.6</td>\n",
       "      <td>25.3</td>\n",
       "      <td>21.7</td>\n",
       "      <td>0.0</td>\n",
       "      <td>NNW</td>\n",
       "      <td>22.0</td>\n",
       "      <td>56.0</td>\n",
       "      <td>21.0</td>\n",
       "      <td>1023.5</td>\n",
       "      <td>1019.1</td>\n",
       "      <td>10.9</td>\n",
       "      <td>24.5</td>\n",
       "      <td>No</td>\n",
       "      <td>No</td>\n",
       "    </tr>\n",
       "    <tr>\n",
       "      <th>145457</th>\n",
       "      <td>6</td>\n",
       "      <td>Uluru</td>\n",
       "      <td>5.4</td>\n",
       "      <td>26.9</td>\n",
       "      <td>21.5</td>\n",
       "      <td>0.0</td>\n",
       "      <td>N</td>\n",
       "      <td>37.0</td>\n",
       "      <td>53.0</td>\n",
       "      <td>24.0</td>\n",
       "      <td>1021.0</td>\n",
       "      <td>1016.8</td>\n",
       "      <td>12.5</td>\n",
       "      <td>26.1</td>\n",
       "      <td>No</td>\n",
       "      <td>No</td>\n",
       "    </tr>\n",
       "    <tr>\n",
       "      <th>145458</th>\n",
       "      <td>6</td>\n",
       "      <td>Uluru</td>\n",
       "      <td>7.8</td>\n",
       "      <td>27.0</td>\n",
       "      <td>19.2</td>\n",
       "      <td>0.0</td>\n",
       "      <td>SE</td>\n",
       "      <td>28.0</td>\n",
       "      <td>51.0</td>\n",
       "      <td>24.0</td>\n",
       "      <td>1019.4</td>\n",
       "      <td>1016.5</td>\n",
       "      <td>15.1</td>\n",
       "      <td>26.0</td>\n",
       "      <td>No</td>\n",
       "      <td>No</td>\n",
       "    </tr>\n",
       "  </tbody>\n",
       "</table>\n",
       "<p>140787 rows × 16 columns</p>\n",
       "</div>"
      ],
      "text/plain": [
       "        Month Location  MinTemp  MaxTemp  Temp_difference  Rainfall  \\\n",
       "0          12   Albury     13.4     22.9              9.5       0.6   \n",
       "1          12   Albury      7.4     25.1             17.7       0.0   \n",
       "2          12   Albury     12.9     25.7             12.8       0.0   \n",
       "3          12   Albury      9.2     28.0             18.8       0.0   \n",
       "4          12   Albury     17.5     32.3             14.8       1.0   \n",
       "...       ...      ...      ...      ...              ...       ...   \n",
       "145454      6    Uluru      3.5     21.8             18.3       0.0   \n",
       "145455      6    Uluru      2.8     23.4             20.6       0.0   \n",
       "145456      6    Uluru      3.6     25.3             21.7       0.0   \n",
       "145457      6    Uluru      5.4     26.9             21.5       0.0   \n",
       "145458      6    Uluru      7.8     27.0             19.2       0.0   \n",
       "\n",
       "       WindGustDir  WindGustSpeed  Humidity9am  Humidity3pm  Pressure9am  \\\n",
       "0                W           44.0         71.0         22.0       1007.7   \n",
       "1              WNW           44.0         44.0         25.0       1010.6   \n",
       "2              WSW           46.0         38.0         30.0       1007.6   \n",
       "3               NE           24.0         45.0         16.0       1017.6   \n",
       "4                W           41.0         82.0         33.0       1010.8   \n",
       "...            ...            ...          ...          ...          ...   \n",
       "145454           E           31.0         59.0         27.0       1024.7   \n",
       "145455           E           31.0         51.0         24.0       1024.6   \n",
       "145456         NNW           22.0         56.0         21.0       1023.5   \n",
       "145457           N           37.0         53.0         24.0       1021.0   \n",
       "145458          SE           28.0         51.0         24.0       1019.4   \n",
       "\n",
       "        Pressure3pm  Temp9am  Temp3pm RainToday RainTomorrow  \n",
       "0            1007.1     16.9     21.8        No           No  \n",
       "1            1007.8     17.2     24.3        No           No  \n",
       "2            1008.7     21.0     23.2        No           No  \n",
       "3            1012.8     18.1     26.5        No           No  \n",
       "4            1006.0     17.8     29.7        No           No  \n",
       "...             ...      ...      ...       ...          ...  \n",
       "145454       1021.2      9.4     20.9        No           No  \n",
       "145455       1020.3     10.1     22.4        No           No  \n",
       "145456       1019.1     10.9     24.5        No           No  \n",
       "145457       1016.8     12.5     26.1        No           No  \n",
       "145458       1016.5     15.1     26.0        No           No  \n",
       "\n",
       "[140787 rows x 16 columns]"
      ]
     },
     "execution_count": 17,
     "metadata": {},
     "output_type": "execute_result"
    }
   ],
   "source": [
    "new_australia_weather"
   ]
  },
  {
   "cell_type": "markdown",
   "id": "9255e7bc",
   "metadata": {},
   "source": [
    "# Mapping location by territories"
   ]
  },
  {
   "cell_type": "markdown",
   "id": "5d7beeb5",
   "metadata": {},
   "source": [
    "<img src=\"Australia_Teritories.jpg\" width=\"650\" height=\"650\">"
   ]
  },
  {
   "cell_type": "code",
   "execution_count": 18,
   "id": "d399ae88",
   "metadata": {},
   "outputs": [],
   "source": [
    "# New_South_Wales\n",
    "new_australia_weather.loc[(new_australia_weather[\"Location\"] == \"Albury\") |\n",
    "                          (new_australia_weather[\"Location\"] == \"BadgerysCreek\") |\n",
    "                          (new_australia_weather[\"Location\"] == \"Canberra\") |\n",
    "                          (new_australia_weather[\"Location\"] == \"Cobar\") |\n",
    "                          (new_australia_weather[\"Location\"] == \"CoffsHarbour\") |\n",
    "                          (new_australia_weather[\"Location\"] == \"Moree\") |\n",
    "                          (new_australia_weather[\"Location\"] == \"MountGinini\") |\n",
    "                          (new_australia_weather[\"Location\"] == \"Newcastle\") |\n",
    "                          (new_australia_weather[\"Location\"] == \"NorahHead\") |\n",
    "                          (new_australia_weather[\"Location\"] == \"NorfolkIsland\") |\n",
    "                          (new_australia_weather[\"Location\"] == \"Richmond\") |\n",
    "                          (new_australia_weather[\"Location\"] == \"Penrith\") |\n",
    "                          (new_australia_weather[\"Location\"] == \"Sydney\") |\n",
    "                          (new_australia_weather[\"Location\"] == \"SydneyAirport\") |\n",
    "                          (new_australia_weather[\"Location\"] == \"WaggaWagga\") |\n",
    "                          (new_australia_weather[\"Location\"] == \"Tuggeranong\") |\n",
    "                          (new_australia_weather[\"Location\"] == \"Williamtown\") |\n",
    "                          (new_australia_weather[\"Location\"] == \"Wollongong\"), \"Location\"] = \"New_South_Wales\""
   ]
  },
  {
   "cell_type": "code",
   "execution_count": 19,
   "id": "e23b5cad",
   "metadata": {},
   "outputs": [],
   "source": [
    "# Victoria\n",
    "new_australia_weather.loc[(new_australia_weather[\"Location\"] == \"Ballarat\") |\n",
    "                          (new_australia_weather[\"Location\"] == \"Bendigo\") |\n",
    "                          (new_australia_weather[\"Location\"] == \"Dartmoor\") |\n",
    "                          (new_australia_weather[\"Location\"] == \"Melbourne\") |\n",
    "                          (new_australia_weather[\"Location\"] == \"MelbourneAirport\") |\n",
    "                          (new_australia_weather[\"Location\"] == \"Mildura\") |\n",
    "                          (new_australia_weather[\"Location\"] == \"Nhil\") |\n",
    "                          (new_australia_weather[\"Location\"] == \"Portland\") |\n",
    "                          (new_australia_weather[\"Location\"] == \"Sale\") |\n",
    "                          (new_australia_weather[\"Location\"] == \"Watsonia\"), \"Location\"] = \"Victoria\""
   ]
  },
  {
   "cell_type": "code",
   "execution_count": 20,
   "id": "eeeb8b6e",
   "metadata": {},
   "outputs": [],
   "source": [
    "# Tasmina\n",
    "new_australia_weather.loc[(new_australia_weather[\"Location\"] == \"Hobart\") |\n",
    "                          (new_australia_weather[\"Location\"] == \"Launceston\"), \"Location\"] = \"Tasmania\""
   ]
  },
  {
   "cell_type": "code",
   "execution_count": 21,
   "id": "ff5b1c12",
   "metadata": {},
   "outputs": [],
   "source": [
    "# South_Australia\n",
    "new_australia_weather.loc[(new_australia_weather[\"Location\"] == \"Adelaide\") |\n",
    "                          (new_australia_weather[\"Location\"] == \"MountGambier\") |\n",
    "                          (new_australia_weather[\"Location\"] == \"Nuriootpa\") |\n",
    "                          (new_australia_weather[\"Location\"] == \"Woomera\")|\n",
    "                          (new_australia_weather[\"Location\"] == \"Albany\"), \"Location\"] = \"South_Australia\""
   ]
  },
  {
   "cell_type": "code",
   "execution_count": 22,
   "id": "3bbedeb2",
   "metadata": {},
   "outputs": [],
   "source": [
    "# Northern_Territory\n",
    "new_australia_weather.loc[(new_australia_weather[\"Location\"] == \"AliceSprings\") |\n",
    "                          (new_australia_weather[\"Location\"] == \"Darwin\") |\n",
    "                          (new_australia_weather[\"Location\"] == \"Katherine\") |\n",
    "                          (new_australia_weather[\"Location\"] == \"Uluru\"), \"Location\"] = \"Northern_Territory\""
   ]
  },
  {
   "cell_type": "code",
   "execution_count": 23,
   "id": "9fc9a4e9",
   "metadata": {},
   "outputs": [],
   "source": [
    "# Queensland\n",
    "new_australia_weather.loc[(new_australia_weather[\"Location\"] == \"Brisbane\") |\n",
    "                          (new_australia_weather[\"Location\"] == \"Cairns\") |\n",
    "                          (new_australia_weather[\"Location\"] == \"GoldCoast\") |\n",
    "                          (new_australia_weather[\"Location\"] == \"Townsville\"), \"Location\"] = \"Queensland\""
   ]
  },
  {
   "cell_type": "code",
   "execution_count": 24,
   "id": "bb9bf5c6",
   "metadata": {},
   "outputs": [],
   "source": [
    "# Western_Australia\n",
    "new_australia_weather.loc[(new_australia_weather[\"Location\"] == \"PearceRAAF\") |\n",
    "                          (new_australia_weather[\"Location\"] == \"Perth\") |\n",
    "                          (new_australia_weather[\"Location\"] == \"PerthAirport\") |\n",
    "                          (new_australia_weather[\"Location\"] == \"SalmonGums\") |\n",
    "                          (new_australia_weather[\"Location\"] == \"Walpole\") |\n",
    "                          (new_australia_weather[\"Location\"] == \"Witchcliffe\"), \"Location\"] = \"Western_Australia\""
   ]
  },
  {
   "cell_type": "code",
   "execution_count": 25,
   "id": "84445027",
   "metadata": {},
   "outputs": [
    {
     "data": {
      "text/plain": [
       "New_South_Wales       52943\n",
       "Victoria              27829\n",
       "Western_Australia     17483\n",
       "South_Australia       15018\n",
       "Queensland            12047\n",
       "Northern_Territory     9264\n",
       "Tasmania               6203\n",
       "Name: Location, dtype: int64"
      ]
     },
     "execution_count": 25,
     "metadata": {},
     "output_type": "execute_result"
    }
   ],
   "source": [
    "new_australia_weather[\"Location\"].value_counts()"
   ]
  },
  {
   "cell_type": "markdown",
   "id": "240ff93f",
   "metadata": {},
   "source": [
    "# Exploratory Data Analysis"
   ]
  },
  {
   "cell_type": "code",
   "execution_count": 26,
   "id": "6e4b0965",
   "metadata": {},
   "outputs": [
    {
     "data": {
      "text/plain": [
       "<matplotlib.legend.Legend at 0x1117b69faf0>"
      ]
     },
     "execution_count": 26,
     "metadata": {},
     "output_type": "execute_result"
    },
    {
     "data": {
      "image/png": "[encoded data removed]",
      "text/plain": [
       "<Figure size 2400x2000 with 1 Axes>"
      ]
     },
     "metadata": {
      "needs_background": "light"
     },
     "output_type": "display_data"
    }
   ],
   "source": [
    "# WindGustDir LARA GORE RainTomorrow ları sırala.\n",
    "\n",
    "labels = [\"W = West\", \"N = North\", \"NW = Northwest\", \"WNW = West-Northwest\",\n",
    "         \"WSW = West-Southwest\", \"S = South\", \"SSW = South-Southwest\", \"NNW = North-Northwest\",\n",
    "         \"SW = Southwest\", \"SSE = South-Southeast\"]\n",
    "\n",
    "wind_directions = new_australia_weather.loc[new_australia_weather[\"RainTomorrow\"] == \"Yes\", :][[\"WindGustDir\", \"RainTomorrow\"]].value_counts()[:10]\n",
    "wind_dir =wind_directions.to_frame().reset_index()\n",
    "\n",
    "plt.figure(figsize=(12,10),dpi=200)\n",
    "sns.barplot(x = 'WindGustDir', y = 0, data = wind_dir)\n",
    "plt.xlabel(\"Wind Direction\")\n",
    "plt.ylabel(\"Rain Tomorrow Count\")\n",
    "plt.title(\"The Most Wind Directions\", c=\"red\")\n",
    "plt.legend(labels)"
   ]
  },
  {
   "cell_type": "code",
   "execution_count": 27,
   "id": "9faa27bb",
   "metadata": {},
   "outputs": [
    {
     "data": {
      "text/plain": [
       "<AxesSubplot:title={'center':'The Regions to Rainy'}, xlabel='Location', ylabel='0'>"
      ]
     },
     "execution_count": 27,
     "metadata": {},
     "output_type": "execute_result"
    },
    {
     "data": {
      "image/png": "[encoded data removed]",
      "text/plain": [
       "<Figure size 3000x1600 with 1 Axes>"
      ]
     },
     "metadata": {
      "needs_background": "light"
     },
     "output_type": "display_data"
    }
   ],
   "source": [
    "# LOCATION LARA GORE RainTomorrow ları sırala.\n",
    "\n",
    "import seaborn as sns\n",
    "\n",
    "location_distribution= new_australia_weather.loc[new_australia_weather[\"RainTomorrow\"] == \"Yes\", :][[\"Location\", \"RainTomorrow\"]].value_counts()[:5]\n",
    "lc =location_distribution.to_frame().reset_index()\n",
    "\n",
    "plt.figure(figsize=(15,8),dpi=200)\n",
    "plt.title(\"The Regions to Rainy\", c=\"red\")\n",
    "sns.barplot(x = 'Location', y = 0, data = lc)"
   ]
  },
  {
   "cell_type": "code",
   "execution_count": 28,
   "id": "fc0323ba",
   "metadata": {},
   "outputs": [
    {
     "data": {
      "text/html": [
       "<div>\n",
       "<style scoped>\n",
       "    .dataframe tbody tr th:only-of-type {\n",
       "        vertical-align: middle;\n",
       "    }\n",
       "\n",
       "    .dataframe tbody tr th {\n",
       "        vertical-align: top;\n",
       "    }\n",
       "\n",
       "    .dataframe thead th {\n",
       "        text-align: right;\n",
       "    }\n",
       "</style>\n",
       "<table border=\"1\" class=\"dataframe\">\n",
       "  <thead>\n",
       "    <tr style=\"text-align: right;\">\n",
       "      <th></th>\n",
       "      <th>Month</th>\n",
       "      <th>Location</th>\n",
       "      <th>MinTemp</th>\n",
       "      <th>MaxTemp</th>\n",
       "      <th>Temp_difference</th>\n",
       "      <th>Rainfall</th>\n",
       "      <th>WindGustDir</th>\n",
       "      <th>WindGustSpeed</th>\n",
       "      <th>Humidity9am</th>\n",
       "      <th>Humidity3pm</th>\n",
       "      <th>Pressure9am</th>\n",
       "      <th>Pressure3pm</th>\n",
       "      <th>Temp9am</th>\n",
       "      <th>Temp3pm</th>\n",
       "      <th>RainToday</th>\n",
       "      <th>RainTomorrow</th>\n",
       "    </tr>\n",
       "  </thead>\n",
       "  <tbody>\n",
       "    <tr>\n",
       "      <th>0</th>\n",
       "      <td>12</td>\n",
       "      <td>New_South_Wales</td>\n",
       "      <td>13.4</td>\n",
       "      <td>22.9</td>\n",
       "      <td>9.5</td>\n",
       "      <td>0.6</td>\n",
       "      <td>W</td>\n",
       "      <td>44.0</td>\n",
       "      <td>71.0</td>\n",
       "      <td>22.0</td>\n",
       "      <td>1007.7</td>\n",
       "      <td>1007.1</td>\n",
       "      <td>16.9</td>\n",
       "      <td>21.8</td>\n",
       "      <td>No</td>\n",
       "      <td>No</td>\n",
       "    </tr>\n",
       "    <tr>\n",
       "      <th>1</th>\n",
       "      <td>12</td>\n",
       "      <td>New_South_Wales</td>\n",
       "      <td>7.4</td>\n",
       "      <td>25.1</td>\n",
       "      <td>17.7</td>\n",
       "      <td>0.0</td>\n",
       "      <td>WNW</td>\n",
       "      <td>44.0</td>\n",
       "      <td>44.0</td>\n",
       "      <td>25.0</td>\n",
       "      <td>1010.6</td>\n",
       "      <td>1007.8</td>\n",
       "      <td>17.2</td>\n",
       "      <td>24.3</td>\n",
       "      <td>No</td>\n",
       "      <td>No</td>\n",
       "    </tr>\n",
       "    <tr>\n",
       "      <th>2</th>\n",
       "      <td>12</td>\n",
       "      <td>New_South_Wales</td>\n",
       "      <td>12.9</td>\n",
       "      <td>25.7</td>\n",
       "      <td>12.8</td>\n",
       "      <td>0.0</td>\n",
       "      <td>WSW</td>\n",
       "      <td>46.0</td>\n",
       "      <td>38.0</td>\n",
       "      <td>30.0</td>\n",
       "      <td>1007.6</td>\n",
       "      <td>1008.7</td>\n",
       "      <td>21.0</td>\n",
       "      <td>23.2</td>\n",
       "      <td>No</td>\n",
       "      <td>No</td>\n",
       "    </tr>\n",
       "    <tr>\n",
       "      <th>3</th>\n",
       "      <td>12</td>\n",
       "      <td>New_South_Wales</td>\n",
       "      <td>9.2</td>\n",
       "      <td>28.0</td>\n",
       "      <td>18.8</td>\n",
       "      <td>0.0</td>\n",
       "      <td>NE</td>\n",
       "      <td>24.0</td>\n",
       "      <td>45.0</td>\n",
       "      <td>16.0</td>\n",
       "      <td>1017.6</td>\n",
       "      <td>1012.8</td>\n",
       "      <td>18.1</td>\n",
       "      <td>26.5</td>\n",
       "      <td>No</td>\n",
       "      <td>No</td>\n",
       "    </tr>\n",
       "    <tr>\n",
       "      <th>4</th>\n",
       "      <td>12</td>\n",
       "      <td>New_South_Wales</td>\n",
       "      <td>17.5</td>\n",
       "      <td>32.3</td>\n",
       "      <td>14.8</td>\n",
       "      <td>1.0</td>\n",
       "      <td>W</td>\n",
       "      <td>41.0</td>\n",
       "      <td>82.0</td>\n",
       "      <td>33.0</td>\n",
       "      <td>1010.8</td>\n",
       "      <td>1006.0</td>\n",
       "      <td>17.8</td>\n",
       "      <td>29.7</td>\n",
       "      <td>No</td>\n",
       "      <td>No</td>\n",
       "    </tr>\n",
       "    <tr>\n",
       "      <th>...</th>\n",
       "      <td>...</td>\n",
       "      <td>...</td>\n",
       "      <td>...</td>\n",
       "      <td>...</td>\n",
       "      <td>...</td>\n",
       "      <td>...</td>\n",
       "      <td>...</td>\n",
       "      <td>...</td>\n",
       "      <td>...</td>\n",
       "      <td>...</td>\n",
       "      <td>...</td>\n",
       "      <td>...</td>\n",
       "      <td>...</td>\n",
       "      <td>...</td>\n",
       "      <td>...</td>\n",
       "      <td>...</td>\n",
       "    </tr>\n",
       "    <tr>\n",
       "      <th>145454</th>\n",
       "      <td>6</td>\n",
       "      <td>Northern_Territory</td>\n",
       "      <td>3.5</td>\n",
       "      <td>21.8</td>\n",
       "      <td>18.3</td>\n",
       "      <td>0.0</td>\n",
       "      <td>E</td>\n",
       "      <td>31.0</td>\n",
       "      <td>59.0</td>\n",
       "      <td>27.0</td>\n",
       "      <td>1024.7</td>\n",
       "      <td>1021.2</td>\n",
       "      <td>9.4</td>\n",
       "      <td>20.9</td>\n",
       "      <td>No</td>\n",
       "      <td>No</td>\n",
       "    </tr>\n",
       "    <tr>\n",
       "      <th>145455</th>\n",
       "      <td>6</td>\n",
       "      <td>Northern_Territory</td>\n",
       "      <td>2.8</td>\n",
       "      <td>23.4</td>\n",
       "      <td>20.6</td>\n",
       "      <td>0.0</td>\n",
       "      <td>E</td>\n",
       "      <td>31.0</td>\n",
       "      <td>51.0</td>\n",
       "      <td>24.0</td>\n",
       "      <td>1024.6</td>\n",
       "      <td>1020.3</td>\n",
       "      <td>10.1</td>\n",
       "      <td>22.4</td>\n",
       "      <td>No</td>\n",
       "      <td>No</td>\n",
       "    </tr>\n",
       "    <tr>\n",
       "      <th>145456</th>\n",
       "      <td>6</td>\n",
       "      <td>Northern_Territory</td>\n",
       "      <td>3.6</td>\n",
       "      <td>25.3</td>\n",
       "      <td>21.7</td>\n",
       "      <td>0.0</td>\n",
       "      <td>NNW</td>\n",
       "      <td>22.0</td>\n",
       "      <td>56.0</td>\n",
       "      <td>21.0</td>\n",
       "      <td>1023.5</td>\n",
       "      <td>1019.1</td>\n",
       "      <td>10.9</td>\n",
       "      <td>24.5</td>\n",
       "      <td>No</td>\n",
       "      <td>No</td>\n",
       "    </tr>\n",
       "    <tr>\n",
       "      <th>145457</th>\n",
       "      <td>6</td>\n",
       "      <td>Northern_Territory</td>\n",
       "      <td>5.4</td>\n",
       "      <td>26.9</td>\n",
       "      <td>21.5</td>\n",
       "      <td>0.0</td>\n",
       "      <td>N</td>\n",
       "      <td>37.0</td>\n",
       "      <td>53.0</td>\n",
       "      <td>24.0</td>\n",
       "      <td>1021.0</td>\n",
       "      <td>1016.8</td>\n",
       "      <td>12.5</td>\n",
       "      <td>26.1</td>\n",
       "      <td>No</td>\n",
       "      <td>No</td>\n",
       "    </tr>\n",
       "    <tr>\n",
       "      <th>145458</th>\n",
       "      <td>6</td>\n",
       "      <td>Northern_Territory</td>\n",
       "      <td>7.8</td>\n",
       "      <td>27.0</td>\n",
       "      <td>19.2</td>\n",
       "      <td>0.0</td>\n",
       "      <td>SE</td>\n",
       "      <td>28.0</td>\n",
       "      <td>51.0</td>\n",
       "      <td>24.0</td>\n",
       "      <td>1019.4</td>\n",
       "      <td>1016.5</td>\n",
       "      <td>15.1</td>\n",
       "      <td>26.0</td>\n",
       "      <td>No</td>\n",
       "      <td>No</td>\n",
       "    </tr>\n",
       "  </tbody>\n",
       "</table>\n",
       "<p>140787 rows × 16 columns</p>\n",
       "</div>"
      ],
      "text/plain": [
       "        Month            Location  MinTemp  MaxTemp  Temp_difference  \\\n",
       "0          12     New_South_Wales     13.4     22.9              9.5   \n",
       "1          12     New_South_Wales      7.4     25.1             17.7   \n",
       "2          12     New_South_Wales     12.9     25.7             12.8   \n",
       "3          12     New_South_Wales      9.2     28.0             18.8   \n",
       "4          12     New_South_Wales     17.5     32.3             14.8   \n",
       "...       ...                 ...      ...      ...              ...   \n",
       "145454      6  Northern_Territory      3.5     21.8             18.3   \n",
       "145455      6  Northern_Territory      2.8     23.4             20.6   \n",
       "145456      6  Northern_Territory      3.6     25.3             21.7   \n",
       "145457      6  Northern_Territory      5.4     26.9             21.5   \n",
       "145458      6  Northern_Territory      7.8     27.0             19.2   \n",
       "\n",
       "        Rainfall WindGustDir  WindGustSpeed  Humidity9am  Humidity3pm  \\\n",
       "0            0.6           W           44.0         71.0         22.0   \n",
       "1            0.0         WNW           44.0         44.0         25.0   \n",
       "2            0.0         WSW           46.0         38.0         30.0   \n",
       "3            0.0          NE           24.0         45.0         16.0   \n",
       "4            1.0           W           41.0         82.0         33.0   \n",
       "...          ...         ...            ...          ...          ...   \n",
       "145454       0.0           E           31.0         59.0         27.0   \n",
       "145455       0.0           E           31.0         51.0         24.0   \n",
       "145456       0.0         NNW           22.0         56.0         21.0   \n",
       "145457       0.0           N           37.0         53.0         24.0   \n",
       "145458       0.0          SE           28.0         51.0         24.0   \n",
       "\n",
       "        Pressure9am  Pressure3pm  Temp9am  Temp3pm RainToday RainTomorrow  \n",
       "0            1007.7       1007.1     16.9     21.8        No           No  \n",
       "1            1010.6       1007.8     17.2     24.3        No           No  \n",
       "2            1007.6       1008.7     21.0     23.2        No           No  \n",
       "3            1017.6       1012.8     18.1     26.5        No           No  \n",
       "4            1010.8       1006.0     17.8     29.7        No           No  \n",
       "...             ...          ...      ...      ...       ...          ...  \n",
       "145454       1024.7       1021.2      9.4     20.9        No           No  \n",
       "145455       1024.6       1020.3     10.1     22.4        No           No  \n",
       "145456       1023.5       1019.1     10.9     24.5        No           No  \n",
       "145457       1021.0       1016.8     12.5     26.1        No           No  \n",
       "145458       1019.4       1016.5     15.1     26.0        No           No  \n",
       "\n",
       "[140787 rows x 16 columns]"
      ]
     },
     "execution_count": 28,
     "metadata": {},
     "output_type": "execute_result"
    }
   ],
   "source": [
    "new_australia_weather"
   ]
  },
  {
   "cell_type": "markdown",
   "id": "72787225",
   "metadata": {},
   "source": [
    "# Mapping"
   ]
  },
  {
   "cell_type": "code",
   "execution_count": 29,
   "id": "3caf7900",
   "metadata": {},
   "outputs": [],
   "source": [
    "# WindGustDir fill NaN values with Top 5 most repeated values\n",
    "import random\n",
    "windgustdir_list = [\"W\", \"SE\", \"E\", \"N\", \"SSE\"]\n",
    "\n",
    "random.seed(42)\n",
    "new_australia_weather.loc[new_australia_weather[\"WindGustDir\"].isna(), \"WindGustDir\"] = random.choice(windgustdir_list)"
   ]
  },
  {
   "cell_type": "code",
   "execution_count": 30,
   "id": "1eb78731",
   "metadata": {},
   "outputs": [
    {
     "name": "stdout",
     "output_type": "stream",
     "text": [
      "<class 'pandas.core.frame.DataFrame'>\n",
      "Int64Index: 140787 entries, 0 to 145458\n",
      "Data columns (total 16 columns):\n",
      " #   Column           Non-Null Count   Dtype  \n",
      "---  ------           --------------   -----  \n",
      " 0   Month            140787 non-null  int64  \n",
      " 1   Location         140787 non-null  object \n",
      " 2   MinTemp          140787 non-null  float64\n",
      " 3   MaxTemp          140787 non-null  float64\n",
      " 4   Temp_difference  140787 non-null  float64\n",
      " 5   Rainfall         140787 non-null  float64\n",
      " 6   WindGustDir      140787 non-null  object \n",
      " 7   WindGustSpeed    140787 non-null  float64\n",
      " 8   Humidity9am      140787 non-null  float64\n",
      " 9   Humidity3pm      140787 non-null  float64\n",
      " 10  Pressure9am      140787 non-null  float64\n",
      " 11  Pressure3pm      140787 non-null  float64\n",
      " 12  Temp9am          140787 non-null  float64\n",
      " 13  Temp3pm          140787 non-null  float64\n",
      " 14  RainToday        140787 non-null  object \n",
      " 15  RainTomorrow     140787 non-null  object \n",
      "dtypes: float64(11), int64(1), object(4)\n",
      "memory usage: 18.3+ MB\n"
     ]
    }
   ],
   "source": [
    "# Now all columns cleaned from missing values\n",
    "new_australia_weather.info()"
   ]
  },
  {
   "cell_type": "code",
   "execution_count": 31,
   "id": "cfccca40",
   "metadata": {},
   "outputs": [
    {
     "data": {
      "text/plain": [
       "Month              0\n",
       "Location           0\n",
       "MinTemp            0\n",
       "MaxTemp            0\n",
       "Temp_difference    0\n",
       "Rainfall           0\n",
       "WindGustDir        0\n",
       "WindGustSpeed      0\n",
       "Humidity9am        0\n",
       "Humidity3pm        0\n",
       "Pressure9am        0\n",
       "Pressure3pm        0\n",
       "Temp9am            0\n",
       "Temp3pm            0\n",
       "RainToday          0\n",
       "RainTomorrow       0\n",
       "dtype: int64"
      ]
     },
     "execution_count": 31,
     "metadata": {},
     "output_type": "execute_result"
    }
   ],
   "source": [
    "new_australia_weather.isna().sum()"
   ]
  },
  {
   "cell_type": "code",
   "execution_count": 32,
   "id": "7c349d5c",
   "metadata": {},
   "outputs": [
    {
     "data": {
      "text/html": [
       "<div>\n",
       "<style scoped>\n",
       "    .dataframe tbody tr th:only-of-type {\n",
       "        vertical-align: middle;\n",
       "    }\n",
       "\n",
       "    .dataframe tbody tr th {\n",
       "        vertical-align: top;\n",
       "    }\n",
       "\n",
       "    .dataframe thead th {\n",
       "        text-align: right;\n",
       "    }\n",
       "</style>\n",
       "<table border=\"1\" class=\"dataframe\">\n",
       "  <thead>\n",
       "    <tr style=\"text-align: right;\">\n",
       "      <th></th>\n",
       "      <th>Month</th>\n",
       "      <th>Location</th>\n",
       "      <th>MinTemp</th>\n",
       "      <th>MaxTemp</th>\n",
       "      <th>Temp_difference</th>\n",
       "      <th>Rainfall</th>\n",
       "      <th>WindGustDir</th>\n",
       "      <th>WindGustSpeed</th>\n",
       "      <th>Humidity9am</th>\n",
       "      <th>Humidity3pm</th>\n",
       "      <th>Pressure9am</th>\n",
       "      <th>Pressure3pm</th>\n",
       "      <th>Temp9am</th>\n",
       "      <th>Temp3pm</th>\n",
       "      <th>RainToday</th>\n",
       "      <th>RainTomorrow</th>\n",
       "    </tr>\n",
       "  </thead>\n",
       "  <tbody>\n",
       "    <tr>\n",
       "      <th>0</th>\n",
       "      <td>12</td>\n",
       "      <td>3</td>\n",
       "      <td>13.4</td>\n",
       "      <td>22.9</td>\n",
       "      <td>9.5</td>\n",
       "      <td>0.6</td>\n",
       "      <td>W</td>\n",
       "      <td>44.0</td>\n",
       "      <td>71.0</td>\n",
       "      <td>22.0</td>\n",
       "      <td>1007.7</td>\n",
       "      <td>1007.1</td>\n",
       "      <td>16.9</td>\n",
       "      <td>21.8</td>\n",
       "      <td>0</td>\n",
       "      <td>0</td>\n",
       "    </tr>\n",
       "    <tr>\n",
       "      <th>1</th>\n",
       "      <td>12</td>\n",
       "      <td>3</td>\n",
       "      <td>7.4</td>\n",
       "      <td>25.1</td>\n",
       "      <td>17.7</td>\n",
       "      <td>0.0</td>\n",
       "      <td>WNW</td>\n",
       "      <td>44.0</td>\n",
       "      <td>44.0</td>\n",
       "      <td>25.0</td>\n",
       "      <td>1010.6</td>\n",
       "      <td>1007.8</td>\n",
       "      <td>17.2</td>\n",
       "      <td>24.3</td>\n",
       "      <td>0</td>\n",
       "      <td>0</td>\n",
       "    </tr>\n",
       "    <tr>\n",
       "      <th>2</th>\n",
       "      <td>12</td>\n",
       "      <td>3</td>\n",
       "      <td>12.9</td>\n",
       "      <td>25.7</td>\n",
       "      <td>12.8</td>\n",
       "      <td>0.0</td>\n",
       "      <td>WSW</td>\n",
       "      <td>46.0</td>\n",
       "      <td>38.0</td>\n",
       "      <td>30.0</td>\n",
       "      <td>1007.6</td>\n",
       "      <td>1008.7</td>\n",
       "      <td>21.0</td>\n",
       "      <td>23.2</td>\n",
       "      <td>0</td>\n",
       "      <td>0</td>\n",
       "    </tr>\n",
       "    <tr>\n",
       "      <th>3</th>\n",
       "      <td>12</td>\n",
       "      <td>3</td>\n",
       "      <td>9.2</td>\n",
       "      <td>28.0</td>\n",
       "      <td>18.8</td>\n",
       "      <td>0.0</td>\n",
       "      <td>NE</td>\n",
       "      <td>24.0</td>\n",
       "      <td>45.0</td>\n",
       "      <td>16.0</td>\n",
       "      <td>1017.6</td>\n",
       "      <td>1012.8</td>\n",
       "      <td>18.1</td>\n",
       "      <td>26.5</td>\n",
       "      <td>0</td>\n",
       "      <td>0</td>\n",
       "    </tr>\n",
       "    <tr>\n",
       "      <th>4</th>\n",
       "      <td>12</td>\n",
       "      <td>3</td>\n",
       "      <td>17.5</td>\n",
       "      <td>32.3</td>\n",
       "      <td>14.8</td>\n",
       "      <td>1.0</td>\n",
       "      <td>W</td>\n",
       "      <td>41.0</td>\n",
       "      <td>82.0</td>\n",
       "      <td>33.0</td>\n",
       "      <td>1010.8</td>\n",
       "      <td>1006.0</td>\n",
       "      <td>17.8</td>\n",
       "      <td>29.7</td>\n",
       "      <td>0</td>\n",
       "      <td>0</td>\n",
       "    </tr>\n",
       "    <tr>\n",
       "      <th>...</th>\n",
       "      <td>...</td>\n",
       "      <td>...</td>\n",
       "      <td>...</td>\n",
       "      <td>...</td>\n",
       "      <td>...</td>\n",
       "      <td>...</td>\n",
       "      <td>...</td>\n",
       "      <td>...</td>\n",
       "      <td>...</td>\n",
       "      <td>...</td>\n",
       "      <td>...</td>\n",
       "      <td>...</td>\n",
       "      <td>...</td>\n",
       "      <td>...</td>\n",
       "      <td>...</td>\n",
       "      <td>...</td>\n",
       "    </tr>\n",
       "    <tr>\n",
       "      <th>145454</th>\n",
       "      <td>6</td>\n",
       "      <td>4</td>\n",
       "      <td>3.5</td>\n",
       "      <td>21.8</td>\n",
       "      <td>18.3</td>\n",
       "      <td>0.0</td>\n",
       "      <td>E</td>\n",
       "      <td>31.0</td>\n",
       "      <td>59.0</td>\n",
       "      <td>27.0</td>\n",
       "      <td>1024.7</td>\n",
       "      <td>1021.2</td>\n",
       "      <td>9.4</td>\n",
       "      <td>20.9</td>\n",
       "      <td>0</td>\n",
       "      <td>0</td>\n",
       "    </tr>\n",
       "    <tr>\n",
       "      <th>145455</th>\n",
       "      <td>6</td>\n",
       "      <td>4</td>\n",
       "      <td>2.8</td>\n",
       "      <td>23.4</td>\n",
       "      <td>20.6</td>\n",
       "      <td>0.0</td>\n",
       "      <td>E</td>\n",
       "      <td>31.0</td>\n",
       "      <td>51.0</td>\n",
       "      <td>24.0</td>\n",
       "      <td>1024.6</td>\n",
       "      <td>1020.3</td>\n",
       "      <td>10.1</td>\n",
       "      <td>22.4</td>\n",
       "      <td>0</td>\n",
       "      <td>0</td>\n",
       "    </tr>\n",
       "    <tr>\n",
       "      <th>145456</th>\n",
       "      <td>6</td>\n",
       "      <td>4</td>\n",
       "      <td>3.6</td>\n",
       "      <td>25.3</td>\n",
       "      <td>21.7</td>\n",
       "      <td>0.0</td>\n",
       "      <td>NNW</td>\n",
       "      <td>22.0</td>\n",
       "      <td>56.0</td>\n",
       "      <td>21.0</td>\n",
       "      <td>1023.5</td>\n",
       "      <td>1019.1</td>\n",
       "      <td>10.9</td>\n",
       "      <td>24.5</td>\n",
       "      <td>0</td>\n",
       "      <td>0</td>\n",
       "    </tr>\n",
       "    <tr>\n",
       "      <th>145457</th>\n",
       "      <td>6</td>\n",
       "      <td>4</td>\n",
       "      <td>5.4</td>\n",
       "      <td>26.9</td>\n",
       "      <td>21.5</td>\n",
       "      <td>0.0</td>\n",
       "      <td>N</td>\n",
       "      <td>37.0</td>\n",
       "      <td>53.0</td>\n",
       "      <td>24.0</td>\n",
       "      <td>1021.0</td>\n",
       "      <td>1016.8</td>\n",
       "      <td>12.5</td>\n",
       "      <td>26.1</td>\n",
       "      <td>0</td>\n",
       "      <td>0</td>\n",
       "    </tr>\n",
       "    <tr>\n",
       "      <th>145458</th>\n",
       "      <td>6</td>\n",
       "      <td>4</td>\n",
       "      <td>7.8</td>\n",
       "      <td>27.0</td>\n",
       "      <td>19.2</td>\n",
       "      <td>0.0</td>\n",
       "      <td>SE</td>\n",
       "      <td>28.0</td>\n",
       "      <td>51.0</td>\n",
       "      <td>24.0</td>\n",
       "      <td>1019.4</td>\n",
       "      <td>1016.5</td>\n",
       "      <td>15.1</td>\n",
       "      <td>26.0</td>\n",
       "      <td>0</td>\n",
       "      <td>0</td>\n",
       "    </tr>\n",
       "  </tbody>\n",
       "</table>\n",
       "<p>140787 rows × 16 columns</p>\n",
       "</div>"
      ],
      "text/plain": [
       "        Month  Location  MinTemp  MaxTemp  Temp_difference  Rainfall  \\\n",
       "0          12         3     13.4     22.9              9.5       0.6   \n",
       "1          12         3      7.4     25.1             17.7       0.0   \n",
       "2          12         3     12.9     25.7             12.8       0.0   \n",
       "3          12         3      9.2     28.0             18.8       0.0   \n",
       "4          12         3     17.5     32.3             14.8       1.0   \n",
       "...       ...       ...      ...      ...              ...       ...   \n",
       "145454      6         4      3.5     21.8             18.3       0.0   \n",
       "145455      6         4      2.8     23.4             20.6       0.0   \n",
       "145456      6         4      3.6     25.3             21.7       0.0   \n",
       "145457      6         4      5.4     26.9             21.5       0.0   \n",
       "145458      6         4      7.8     27.0             19.2       0.0   \n",
       "\n",
       "       WindGustDir  WindGustSpeed  Humidity9am  Humidity3pm  Pressure9am  \\\n",
       "0                W           44.0         71.0         22.0       1007.7   \n",
       "1              WNW           44.0         44.0         25.0       1010.6   \n",
       "2              WSW           46.0         38.0         30.0       1007.6   \n",
       "3               NE           24.0         45.0         16.0       1017.6   \n",
       "4                W           41.0         82.0         33.0       1010.8   \n",
       "...            ...            ...          ...          ...          ...   \n",
       "145454           E           31.0         59.0         27.0       1024.7   \n",
       "145455           E           31.0         51.0         24.0       1024.6   \n",
       "145456         NNW           22.0         56.0         21.0       1023.5   \n",
       "145457           N           37.0         53.0         24.0       1021.0   \n",
       "145458          SE           28.0         51.0         24.0       1019.4   \n",
       "\n",
       "        Pressure3pm  Temp9am  Temp3pm  RainToday  RainTomorrow  \n",
       "0            1007.1     16.9     21.8          0             0  \n",
       "1            1007.8     17.2     24.3          0             0  \n",
       "2            1008.7     21.0     23.2          0             0  \n",
       "3            1012.8     18.1     26.5          0             0  \n",
       "4            1006.0     17.8     29.7          0             0  \n",
       "...             ...      ...      ...        ...           ...  \n",
       "145454       1021.2      9.4     20.9          0             0  \n",
       "145455       1020.3     10.1     22.4          0             0  \n",
       "145456       1019.1     10.9     24.5          0             0  \n",
       "145457       1016.8     12.5     26.1          0             0  \n",
       "145458       1016.5     15.1     26.0          0             0  \n",
       "\n",
       "[140787 rows x 16 columns]"
      ]
     },
     "execution_count": 32,
     "metadata": {},
     "output_type": "execute_result"
    }
   ],
   "source": [
    "# Mapping for Location\n",
    "regions  = {\"Queensland\": 7, \"Tasmania\": 6, \"Victoria\": 5, \"Northern_Territory\": 4, \"New_South_Wales\": 3, \"Western_Australia\": 2, \"South_Australia\": 1}\n",
    "\n",
    "new_australia_weather[\"Location\"] = new_australia_weather['Location'].map(regions)\n",
    "new_australia_weather[\"Location\"].astype(int)\n",
    "\n",
    "# Mapping for RainToday\n",
    "raintoday  = {\"Yes\": 1, \"No\": 0}\n",
    "new_australia_weather[\"RainToday\"] = new_australia_weather['RainToday'].map(raintoday)\n",
    "new_australia_weather[\"RainToday\"].astype(int)\n",
    "\n",
    "# Mapping for RainTomorrow\n",
    "new_australia_weather[\"RainTomorrow\"] = new_australia_weather['RainTomorrow'].map(raintoday)\n",
    "new_australia_weather[\"RainTomorrow\"].astype(int)\n",
    "new_australia_weather"
   ]
  },
  {
   "cell_type": "code",
   "execution_count": 33,
   "id": "553a0449",
   "metadata": {},
   "outputs": [],
   "source": [
    "# Pressure label encoding\n",
    "new_australia_weather.loc[ new_australia_weather['Pressure3pm'] <= 987.5, 'Pressure3pm'] = 1\n",
    "new_australia_weather.loc[(new_australia_weather['Pressure3pm'] > 987.5) & (new_australia_weather['Pressure3pm'] <= 997.9), 'Pressure3pm'] = 3\n",
    "new_australia_weather.loc[(new_australia_weather['Pressure3pm'] > 997.9) & (new_australia_weather['Pressure3pm'] <= 1008), 'Pressure3pm']   = 5\n",
    "new_australia_weather.loc[(new_australia_weather['Pressure3pm'] > 1008) & (new_australia_weather['Pressure3pm'] <= 1018.7), 'Pressure3pm']   = 6\n",
    "new_australia_weather.loc[(new_australia_weather['Pressure3pm'] > 1018.7) & (new_australia_weather['Pressure3pm'] <= 1029.5), 'Pressure3pm']   = 4\n",
    "new_australia_weather.loc[ new_australia_weather['Pressure3pm'] > 1029.5, 'Pressure3pm'] = 2\n",
    "new_australia_weather['Pressure3pm'] = new_australia_weather['Pressure3pm'].astype(int)\n",
    "\n",
    "new_australia_weather.loc[ new_australia_weather['Pressure9am'] <= 990.5, 'Pressure9am'] = 1\n",
    "new_australia_weather.loc[(new_australia_weather['Pressure9am'] > 990.5) & (new_australia_weather['Pressure9am'] <= 1000.5), 'Pressure9am'] = 3\n",
    "new_australia_weather.loc[(new_australia_weather['Pressure9am'] > 1000.5) & (new_australia_weather['Pressure9am'] <= 1010.5), 'Pressure9am']   = 5\n",
    "new_australia_weather.loc[(new_australia_weather['Pressure9am'] > 1010.5) & (new_australia_weather['Pressure9am'] <= 1020.5), 'Pressure9am']   = 6\n",
    "new_australia_weather.loc[(new_australia_weather['Pressure9am'] > 1020.5) & (new_australia_weather['Pressure9am'] <= 1030.5), 'Pressure9am']   = 4\n",
    "new_australia_weather.loc[ new_australia_weather['Pressure9am'] > 1030.5, 'Pressure9am'] = 2\n",
    "new_australia_weather['Pressure9am'] = new_australia_weather['Pressure9am'].astype(int)"
   ]
  },
  {
   "cell_type": "code",
   "execution_count": 34,
   "id": "c86bda52",
   "metadata": {},
   "outputs": [],
   "source": [
    "# Humidity label encoding\n",
    "new_australia_weather.loc[ new_australia_weather['Humidity9am'] <= 10, 'Humidity9am'] = 1\n",
    "new_australia_weather.loc[(new_australia_weather['Humidity9am'] > 10) & (new_australia_weather['Humidity9am'] <= 20), 'Humidity9am'] = 2\n",
    "new_australia_weather.loc[(new_australia_weather['Humidity9am'] > 20) & (new_australia_weather['Humidity9am'] <= 30), 'Humidity9am']   = 3\n",
    "new_australia_weather.loc[(new_australia_weather['Humidity9am'] > 30) & (new_australia_weather['Humidity9am'] <= 40), 'Humidity9am']   = 4\n",
    "new_australia_weather.loc[(new_australia_weather['Humidity9am'] > 40) & (new_australia_weather['Humidity9am'] <= 50), 'Humidity9am']   = 5\n",
    "new_australia_weather.loc[(new_australia_weather['Humidity9am'] > 50) & (new_australia_weather['Humidity9am'] <= 60), 'Humidity9am']   = 6\n",
    "new_australia_weather.loc[(new_australia_weather['Humidity9am'] > 60) & (new_australia_weather['Humidity9am'] <= 70), 'Humidity9am']   = 7\n",
    "new_australia_weather.loc[(new_australia_weather['Humidity9am'] > 70) & (new_australia_weather['Humidity9am'] <= 80), 'Humidity9am']   = 8\n",
    "new_australia_weather.loc[(new_australia_weather['Humidity9am'] > 80) & (new_australia_weather['Humidity9am'] <= 90), 'Humidity9am']   = 9\n",
    "new_australia_weather.loc[new_australia_weather['Humidity9am'] > 90 , 'Humidity9am']   = 10\n",
    "new_australia_weather['Humidity9am'] = new_australia_weather['Humidity9am'].astype(int)\n",
    "\n",
    "new_australia_weather.loc[ new_australia_weather['Humidity3pm'] <= 10, 'Humidity3pm'] = 1\n",
    "new_australia_weather.loc[(new_australia_weather['Humidity3pm'] > 10) & (new_australia_weather['Humidity3pm'] <= 20), 'Humidity3pm'] = 2\n",
    "new_australia_weather.loc[(new_australia_weather['Humidity3pm'] > 20) & (new_australia_weather['Humidity3pm'] <= 30), 'Humidity3pm']   = 3\n",
    "new_australia_weather.loc[(new_australia_weather['Humidity3pm'] > 30) & (new_australia_weather['Humidity3pm'] <= 40), 'Humidity3pm']   = 4\n",
    "new_australia_weather.loc[(new_australia_weather['Humidity3pm'] > 40) & (new_australia_weather['Humidity3pm'] <= 50), 'Humidity3pm']   = 5\n",
    "new_australia_weather.loc[(new_australia_weather['Humidity3pm'] > 50) & (new_australia_weather['Humidity3pm'] <= 60), 'Humidity3pm']   = 6\n",
    "new_australia_weather.loc[(new_australia_weather['Humidity3pm'] > 60) & (new_australia_weather['Humidity3pm'] <= 70), 'Humidity3pm']   = 7\n",
    "new_australia_weather.loc[(new_australia_weather['Humidity3pm'] > 70) & (new_australia_weather['Humidity3pm'] <= 80), 'Humidity3pm']   = 8\n",
    "new_australia_weather.loc[(new_australia_weather['Humidity3pm'] > 80) & (new_australia_weather['Humidity3pm'] <= 90), 'Humidity3pm']   = 9\n",
    "new_australia_weather.loc[new_australia_weather['Humidity3pm'] > 90 , 'Humidity3pm']   = 10\n",
    "new_australia_weather['Humidity3pm'] = new_australia_weather['Humidity3pm'].astype(int)"
   ]
  },
  {
   "cell_type": "code",
   "execution_count": 35,
   "id": "7500fa26",
   "metadata": {},
   "outputs": [],
   "source": [
    "# Temp and WindGustDir label encoding\n",
    "new_australia_weather.loc[ new_australia_weather['MinTemp'] <= -4.3, 'MinTemp'] = 1\n",
    "new_australia_weather.loc[(new_australia_weather['MinTemp'] > -4.3) & (new_australia_weather['MinTemp'] <= -0.1), 'MinTemp'] = 3\n",
    "new_australia_weather.loc[(new_australia_weather['MinTemp'] > 0.1) & (new_australia_weather['MinTemp'] <= 4.1), 'MinTemp']   = 5\n",
    "new_australia_weather.loc[(new_australia_weather['MinTemp'] > 4.1) & (new_australia_weather['MinTemp'] <= 8.3), 'MinTemp']   = 9\n",
    "new_australia_weather.loc[(new_australia_weather['MinTemp'] > 8.3) & (new_australia_weather['MinTemp'] <= 12.5), 'MinTemp']   = 10\n",
    "new_australia_weather.loc[(new_australia_weather['MinTemp'] > 12.5) & (new_australia_weather['MinTemp'] <= 16.7), 'MinTemp']   = 8\n",
    "new_australia_weather.loc[(new_australia_weather['MinTemp'] > 16.7) & (new_australia_weather['MinTemp'] <= 20.9), 'MinTemp']   = 7\n",
    "new_australia_weather.loc[(new_australia_weather['MinTemp'] > 20.9) & (new_australia_weather['MinTemp'] <= 25.1), 'MinTemp']   = 6\n",
    "new_australia_weather.loc[(new_australia_weather['MinTemp'] > 25.1) & (new_australia_weather['MinTemp'] <= 29.3), 'MinTemp']   = 4\n",
    "new_australia_weather.loc[new_australia_weather['MinTemp'] > 29.3 , 'MinTemp']   = 2\n",
    "new_australia_weather['MinTemp'] = new_australia_weather['MinTemp'].astype(int)\n",
    "\n",
    "new_australia_weather.loc[ new_australia_weather['MaxTemp'] <= 0.5, 'MaxTemp'] = 1\n",
    "new_australia_weather.loc[(new_australia_weather['MaxTemp'] > 0.5) & (new_australia_weather['MaxTemp'] <= 5.8), 'MaxTemp'] = 3\n",
    "new_australia_weather.loc[(new_australia_weather['MaxTemp'] > 5.8) & (new_australia_weather['MaxTemp'] <= 11.1), 'MaxTemp']   = 5\n",
    "new_australia_weather.loc[(new_australia_weather['MaxTemp'] > 11.1) & (new_australia_weather['MaxTemp'] <= 16.4), 'MaxTemp']   = 9\n",
    "new_australia_weather.loc[(new_australia_weather['MaxTemp'] > 16.4) & (new_australia_weather['MaxTemp'] <= 21.7), 'MaxTemp']   = 10\n",
    "new_australia_weather.loc[(new_australia_weather['MaxTemp'] > 21.7) & (new_australia_weather['MaxTemp'] <= 27), 'MaxTemp']   = 8\n",
    "new_australia_weather.loc[(new_australia_weather['MaxTemp'] > 27) & (new_australia_weather['MaxTemp'] <= 32.3), 'MaxTemp']   = 7\n",
    "new_australia_weather.loc[(new_australia_weather['MaxTemp'] > 32.3) & (new_australia_weather['MaxTemp'] <= 37.6), 'MaxTemp']   = 6\n",
    "new_australia_weather.loc[(new_australia_weather['MaxTemp'] > 37.6) & (new_australia_weather['MaxTemp'] <= 42.9), 'MaxTemp']   = 4\n",
    "new_australia_weather.loc[new_australia_weather['MaxTemp'] > 42.9 , 'MaxTemp']   = 2\n",
    "new_australia_weather['MaxTemp'] = new_australia_weather['MaxTemp'].astype(int)\n",
    "\n",
    "new_australia_weather.loc[ new_australia_weather['WindGustSpeed'] <= 18.9, 'WindGustSpeed'] = 5\n",
    "new_australia_weather.loc[(new_australia_weather['WindGustSpeed'] > 18.9) & (new_australia_weather['WindGustSpeed'] <= 31.8), 'WindGustSpeed'] = 8\n",
    "new_australia_weather.loc[(new_australia_weather['WindGustSpeed'] > 31.8) & (new_australia_weather['WindGustSpeed'] <= 41.7), 'WindGustSpeed']   = 9\n",
    "new_australia_weather.loc[(new_australia_weather['WindGustSpeed'] > 41.7) & (new_australia_weather['WindGustSpeed'] <= 57.6), 'WindGustSpeed']   = 10\n",
    "new_australia_weather.loc[(new_australia_weather['WindGustSpeed'] > 57.6) & (new_australia_weather['WindGustSpeed'] <= 70.5), 'WindGustSpeed']   = 7\n",
    "new_australia_weather.loc[(new_australia_weather['WindGustSpeed'] > 70.5) & (new_australia_weather['WindGustSpeed'] <= 83.4), 'WindGustSpeed']   = 6\n",
    "new_australia_weather.loc[(new_australia_weather['WindGustSpeed'] > 83.4) & (new_australia_weather['WindGustSpeed'] <= 96.3), 'WindGustSpeed']   = 4\n",
    "new_australia_weather.loc[(new_australia_weather['WindGustSpeed'] > 96.3) & (new_australia_weather['WindGustSpeed'] <= 109.2), 'WindGustSpeed']   = 3\n",
    "new_australia_weather.loc[(new_australia_weather['WindGustSpeed'] > 109.2) & (new_australia_weather['WindGustSpeed'] <= 122.1), 'WindGustSpeed']   = 2\n",
    "new_australia_weather.loc[new_australia_weather['WindGustSpeed'] > 122.1 , 'WindGustSpeed']   = 1\n",
    "new_australia_weather['WindGustSpeed'] = new_australia_weather['WindGustSpeed'].astype(int)\n"
   ]
  },
  {
   "cell_type": "code",
   "execution_count": 36,
   "id": "c9086236",
   "metadata": {},
   "outputs": [],
   "source": [
    "# we dont know order of importance of WindGustDir then we do get_dummies\n",
    "new_australia_weather = pd.get_dummies(new_australia_weather, columns=[\"WindGustDir\"])"
   ]
  },
  {
   "cell_type": "code",
   "execution_count": 37,
   "id": "309af6bf",
   "metadata": {},
   "outputs": [
    {
     "data": {
      "text/html": [
       "<div>\n",
       "<style scoped>\n",
       "    .dataframe tbody tr th:only-of-type {\n",
       "        vertical-align: middle;\n",
       "    }\n",
       "\n",
       "    .dataframe tbody tr th {\n",
       "        vertical-align: top;\n",
       "    }\n",
       "\n",
       "    .dataframe thead th {\n",
       "        text-align: right;\n",
       "    }\n",
       "</style>\n",
       "<table border=\"1\" class=\"dataframe\">\n",
       "  <thead>\n",
       "    <tr style=\"text-align: right;\">\n",
       "      <th></th>\n",
       "      <th>Month</th>\n",
       "      <th>Location</th>\n",
       "      <th>MinTemp</th>\n",
       "      <th>MaxTemp</th>\n",
       "      <th>Temp_difference</th>\n",
       "      <th>Rainfall</th>\n",
       "      <th>WindGustSpeed</th>\n",
       "      <th>Humidity9am</th>\n",
       "      <th>Humidity3pm</th>\n",
       "      <th>Pressure9am</th>\n",
       "      <th>...</th>\n",
       "      <th>WindGustDir_NNW</th>\n",
       "      <th>WindGustDir_NW</th>\n",
       "      <th>WindGustDir_S</th>\n",
       "      <th>WindGustDir_SE</th>\n",
       "      <th>WindGustDir_SSE</th>\n",
       "      <th>WindGustDir_SSW</th>\n",
       "      <th>WindGustDir_SW</th>\n",
       "      <th>WindGustDir_W</th>\n",
       "      <th>WindGustDir_WNW</th>\n",
       "      <th>WindGustDir_WSW</th>\n",
       "    </tr>\n",
       "  </thead>\n",
       "  <tbody>\n",
       "    <tr>\n",
       "      <th>0</th>\n",
       "      <td>12</td>\n",
       "      <td>3</td>\n",
       "      <td>8</td>\n",
       "      <td>8</td>\n",
       "      <td>9.5</td>\n",
       "      <td>0.6</td>\n",
       "      <td>10</td>\n",
       "      <td>8</td>\n",
       "      <td>3</td>\n",
       "      <td>5</td>\n",
       "      <td>...</td>\n",
       "      <td>0</td>\n",
       "      <td>0</td>\n",
       "      <td>0</td>\n",
       "      <td>0</td>\n",
       "      <td>0</td>\n",
       "      <td>0</td>\n",
       "      <td>0</td>\n",
       "      <td>1</td>\n",
       "      <td>0</td>\n",
       "      <td>0</td>\n",
       "    </tr>\n",
       "    <tr>\n",
       "      <th>1</th>\n",
       "      <td>12</td>\n",
       "      <td>3</td>\n",
       "      <td>10</td>\n",
       "      <td>8</td>\n",
       "      <td>17.7</td>\n",
       "      <td>0.0</td>\n",
       "      <td>10</td>\n",
       "      <td>5</td>\n",
       "      <td>3</td>\n",
       "      <td>6</td>\n",
       "      <td>...</td>\n",
       "      <td>0</td>\n",
       "      <td>0</td>\n",
       "      <td>0</td>\n",
       "      <td>0</td>\n",
       "      <td>0</td>\n",
       "      <td>0</td>\n",
       "      <td>0</td>\n",
       "      <td>0</td>\n",
       "      <td>1</td>\n",
       "      <td>0</td>\n",
       "    </tr>\n",
       "    <tr>\n",
       "      <th>2</th>\n",
       "      <td>12</td>\n",
       "      <td>3</td>\n",
       "      <td>8</td>\n",
       "      <td>8</td>\n",
       "      <td>12.8</td>\n",
       "      <td>0.0</td>\n",
       "      <td>10</td>\n",
       "      <td>4</td>\n",
       "      <td>3</td>\n",
       "      <td>5</td>\n",
       "      <td>...</td>\n",
       "      <td>0</td>\n",
       "      <td>0</td>\n",
       "      <td>0</td>\n",
       "      <td>0</td>\n",
       "      <td>0</td>\n",
       "      <td>0</td>\n",
       "      <td>0</td>\n",
       "      <td>0</td>\n",
       "      <td>0</td>\n",
       "      <td>1</td>\n",
       "    </tr>\n",
       "    <tr>\n",
       "      <th>3</th>\n",
       "      <td>12</td>\n",
       "      <td>3</td>\n",
       "      <td>10</td>\n",
       "      <td>7</td>\n",
       "      <td>18.8</td>\n",
       "      <td>0.0</td>\n",
       "      <td>8</td>\n",
       "      <td>5</td>\n",
       "      <td>2</td>\n",
       "      <td>6</td>\n",
       "      <td>...</td>\n",
       "      <td>0</td>\n",
       "      <td>0</td>\n",
       "      <td>0</td>\n",
       "      <td>0</td>\n",
       "      <td>0</td>\n",
       "      <td>0</td>\n",
       "      <td>0</td>\n",
       "      <td>0</td>\n",
       "      <td>0</td>\n",
       "      <td>0</td>\n",
       "    </tr>\n",
       "    <tr>\n",
       "      <th>4</th>\n",
       "      <td>12</td>\n",
       "      <td>3</td>\n",
       "      <td>7</td>\n",
       "      <td>7</td>\n",
       "      <td>14.8</td>\n",
       "      <td>1.0</td>\n",
       "      <td>9</td>\n",
       "      <td>9</td>\n",
       "      <td>4</td>\n",
       "      <td>6</td>\n",
       "      <td>...</td>\n",
       "      <td>0</td>\n",
       "      <td>0</td>\n",
       "      <td>0</td>\n",
       "      <td>0</td>\n",
       "      <td>0</td>\n",
       "      <td>0</td>\n",
       "      <td>0</td>\n",
       "      <td>1</td>\n",
       "      <td>0</td>\n",
       "      <td>0</td>\n",
       "    </tr>\n",
       "    <tr>\n",
       "      <th>...</th>\n",
       "      <td>...</td>\n",
       "      <td>...</td>\n",
       "      <td>...</td>\n",
       "      <td>...</td>\n",
       "      <td>...</td>\n",
       "      <td>...</td>\n",
       "      <td>...</td>\n",
       "      <td>...</td>\n",
       "      <td>...</td>\n",
       "      <td>...</td>\n",
       "      <td>...</td>\n",
       "      <td>...</td>\n",
       "      <td>...</td>\n",
       "      <td>...</td>\n",
       "      <td>...</td>\n",
       "      <td>...</td>\n",
       "      <td>...</td>\n",
       "      <td>...</td>\n",
       "      <td>...</td>\n",
       "      <td>...</td>\n",
       "      <td>...</td>\n",
       "    </tr>\n",
       "    <tr>\n",
       "      <th>145454</th>\n",
       "      <td>6</td>\n",
       "      <td>4</td>\n",
       "      <td>10</td>\n",
       "      <td>8</td>\n",
       "      <td>18.3</td>\n",
       "      <td>0.0</td>\n",
       "      <td>8</td>\n",
       "      <td>6</td>\n",
       "      <td>3</td>\n",
       "      <td>4</td>\n",
       "      <td>...</td>\n",
       "      <td>0</td>\n",
       "      <td>0</td>\n",
       "      <td>0</td>\n",
       "      <td>0</td>\n",
       "      <td>0</td>\n",
       "      <td>0</td>\n",
       "      <td>0</td>\n",
       "      <td>0</td>\n",
       "      <td>0</td>\n",
       "      <td>0</td>\n",
       "    </tr>\n",
       "    <tr>\n",
       "      <th>145455</th>\n",
       "      <td>6</td>\n",
       "      <td>4</td>\n",
       "      <td>10</td>\n",
       "      <td>8</td>\n",
       "      <td>20.6</td>\n",
       "      <td>0.0</td>\n",
       "      <td>8</td>\n",
       "      <td>6</td>\n",
       "      <td>3</td>\n",
       "      <td>4</td>\n",
       "      <td>...</td>\n",
       "      <td>0</td>\n",
       "      <td>0</td>\n",
       "      <td>0</td>\n",
       "      <td>0</td>\n",
       "      <td>0</td>\n",
       "      <td>0</td>\n",
       "      <td>0</td>\n",
       "      <td>0</td>\n",
       "      <td>0</td>\n",
       "      <td>0</td>\n",
       "    </tr>\n",
       "    <tr>\n",
       "      <th>145456</th>\n",
       "      <td>6</td>\n",
       "      <td>4</td>\n",
       "      <td>10</td>\n",
       "      <td>8</td>\n",
       "      <td>21.7</td>\n",
       "      <td>0.0</td>\n",
       "      <td>8</td>\n",
       "      <td>6</td>\n",
       "      <td>3</td>\n",
       "      <td>4</td>\n",
       "      <td>...</td>\n",
       "      <td>1</td>\n",
       "      <td>0</td>\n",
       "      <td>0</td>\n",
       "      <td>0</td>\n",
       "      <td>0</td>\n",
       "      <td>0</td>\n",
       "      <td>0</td>\n",
       "      <td>0</td>\n",
       "      <td>0</td>\n",
       "      <td>0</td>\n",
       "    </tr>\n",
       "    <tr>\n",
       "      <th>145457</th>\n",
       "      <td>6</td>\n",
       "      <td>4</td>\n",
       "      <td>10</td>\n",
       "      <td>8</td>\n",
       "      <td>21.5</td>\n",
       "      <td>0.0</td>\n",
       "      <td>9</td>\n",
       "      <td>6</td>\n",
       "      <td>3</td>\n",
       "      <td>4</td>\n",
       "      <td>...</td>\n",
       "      <td>0</td>\n",
       "      <td>0</td>\n",
       "      <td>0</td>\n",
       "      <td>0</td>\n",
       "      <td>0</td>\n",
       "      <td>0</td>\n",
       "      <td>0</td>\n",
       "      <td>0</td>\n",
       "      <td>0</td>\n",
       "      <td>0</td>\n",
       "    </tr>\n",
       "    <tr>\n",
       "      <th>145458</th>\n",
       "      <td>6</td>\n",
       "      <td>4</td>\n",
       "      <td>10</td>\n",
       "      <td>8</td>\n",
       "      <td>19.2</td>\n",
       "      <td>0.0</td>\n",
       "      <td>8</td>\n",
       "      <td>6</td>\n",
       "      <td>3</td>\n",
       "      <td>6</td>\n",
       "      <td>...</td>\n",
       "      <td>0</td>\n",
       "      <td>0</td>\n",
       "      <td>0</td>\n",
       "      <td>1</td>\n",
       "      <td>0</td>\n",
       "      <td>0</td>\n",
       "      <td>0</td>\n",
       "      <td>0</td>\n",
       "      <td>0</td>\n",
       "      <td>0</td>\n",
       "    </tr>\n",
       "  </tbody>\n",
       "</table>\n",
       "<p>140787 rows × 31 columns</p>\n",
       "</div>"
      ],
      "text/plain": [
       "        Month  Location  MinTemp  MaxTemp  Temp_difference  Rainfall  \\\n",
       "0          12         3        8        8              9.5       0.6   \n",
       "1          12         3       10        8             17.7       0.0   \n",
       "2          12         3        8        8             12.8       0.0   \n",
       "3          12         3       10        7             18.8       0.0   \n",
       "4          12         3        7        7             14.8       1.0   \n",
       "...       ...       ...      ...      ...              ...       ...   \n",
       "145454      6         4       10        8             18.3       0.0   \n",
       "145455      6         4       10        8             20.6       0.0   \n",
       "145456      6         4       10        8             21.7       0.0   \n",
       "145457      6         4       10        8             21.5       0.0   \n",
       "145458      6         4       10        8             19.2       0.0   \n",
       "\n",
       "        WindGustSpeed  Humidity9am  Humidity3pm  Pressure9am  ...  \\\n",
       "0                  10            8            3            5  ...   \n",
       "1                  10            5            3            6  ...   \n",
       "2                  10            4            3            5  ...   \n",
       "3                   8            5            2            6  ...   \n",
       "4                   9            9            4            6  ...   \n",
       "...               ...          ...          ...          ...  ...   \n",
       "145454              8            6            3            4  ...   \n",
       "145455              8            6            3            4  ...   \n",
       "145456              8            6            3            4  ...   \n",
       "145457              9            6            3            4  ...   \n",
       "145458              8            6            3            6  ...   \n",
       "\n",
       "        WindGustDir_NNW  WindGustDir_NW  WindGustDir_S  WindGustDir_SE  \\\n",
       "0                     0               0              0               0   \n",
       "1                     0               0              0               0   \n",
       "2                     0               0              0               0   \n",
       "3                     0               0              0               0   \n",
       "4                     0               0              0               0   \n",
       "...                 ...             ...            ...             ...   \n",
       "145454                0               0              0               0   \n",
       "145455                0               0              0               0   \n",
       "145456                1               0              0               0   \n",
       "145457                0               0              0               0   \n",
       "145458                0               0              0               1   \n",
       "\n",
       "        WindGustDir_SSE  WindGustDir_SSW  WindGustDir_SW  WindGustDir_W  \\\n",
       "0                     0                0               0              1   \n",
       "1                     0                0               0              0   \n",
       "2                     0                0               0              0   \n",
       "3                     0                0               0              0   \n",
       "4                     0                0               0              1   \n",
       "...                 ...              ...             ...            ...   \n",
       "145454                0                0               0              0   \n",
       "145455                0                0               0              0   \n",
       "145456                0                0               0              0   \n",
       "145457                0                0               0              0   \n",
       "145458                0                0               0              0   \n",
       "\n",
       "        WindGustDir_WNW  WindGustDir_WSW  \n",
       "0                     0                0  \n",
       "1                     1                0  \n",
       "2                     0                1  \n",
       "3                     0                0  \n",
       "4                     0                0  \n",
       "...                 ...              ...  \n",
       "145454                0                0  \n",
       "145455                0                0  \n",
       "145456                0                0  \n",
       "145457                0                0  \n",
       "145458                0                0  \n",
       "\n",
       "[140787 rows x 31 columns]"
      ]
     },
     "execution_count": 37,
     "metadata": {},
     "output_type": "execute_result"
    }
   ],
   "source": [
    "new_australia_weather"
   ]
  },
  {
   "cell_type": "markdown",
   "id": "e872a094",
   "metadata": {},
   "source": [
    "# CLASSIFICATION"
   ]
  },
  {
   "cell_type": "code",
   "execution_count": 38,
   "id": "325cc22c",
   "metadata": {},
   "outputs": [],
   "source": [
    "X = new_australia_weather.drop([\"RainTomorrow\"], axis=1)\n",
    "Y = new_australia_weather[\"RainTomorrow\"]\n"
   ]
  },
  {
   "cell_type": "code",
   "execution_count": 39,
   "id": "cc402ecd",
   "metadata": {},
   "outputs": [],
   "source": [
    "x_train, x_test, y_train, y_test = train_test_split(X, Y, test_size=0.30, random_state=42)"
   ]
  },
  {
   "cell_type": "code",
   "execution_count": 40,
   "id": "d87fe384",
   "metadata": {},
   "outputs": [],
   "source": [
    "import joblib # for save model"
   ]
  },
  {
   "cell_type": "code",
   "execution_count": 41,
   "id": "007fc203",
   "metadata": {},
   "outputs": [
    {
     "name": "stderr",
     "output_type": "stream",
     "text": [
      "C:\\Users\\Tugrul\\anaconda3\\lib\\site-packages\\sklearn\\linear_model\\_logistic.py:444: ConvergenceWarning: lbfgs failed to converge (status=1):\n",
      "STOP: TOTAL NO. of ITERATIONS REACHED LIMIT.\n",
      "\n",
      "Increase the number of iterations (max_iter) or scale the data as shown in:\n",
      "    https://scikit-learn.org/stable/modules/preprocessing.html\n",
      "Please also refer to the documentation for alternative solver options:\n",
      "    https://scikit-learn.org/stable/modules/linear_model.html#logistic-regression\n",
      "  n_iter_i = _check_optimize_result(\n"
     ]
    }
   ],
   "source": [
    "from sklearn.linear_model import LogisticRegression\n",
    "logreg = LogisticRegression()\n",
    "logreg.fit(x_train, y_train)\n",
    "\n",
    "Y_pred = logreg.predict(x_test)\n",
    "\n",
    "# save model\n",
    "joblib.dump(logreg, 'log_reg_model')\n",
    "\n",
    "acc_log = round(logreg.score(x_train, y_train) * 100, 2)"
   ]
  },
  {
   "cell_type": "code",
   "execution_count": 42,
   "id": "2b1a16b3",
   "metadata": {},
   "outputs": [],
   "source": [
    "from sklearn.neighbors import KNeighborsClassifier\n",
    "knn = KNeighborsClassifier(n_neighbors = 3)\n",
    "knn.fit(x_train, y_train) \n",
    "Y_pred = knn.predict(x_test)\n",
    "\n",
    "# save model\n",
    "joblib.dump(knn, 'kNN_model')\n",
    "\n",
    "acc_knn = round(knn.score(x_train, y_train) * 100, 2)"
   ]
  },
  {
   "cell_type": "code",
   "execution_count": 43,
   "id": "cb9943f4",
   "metadata": {},
   "outputs": [],
   "source": [
    "from sklearn.naive_bayes import GaussianNB\n",
    "gaussian = GaussianNB()\n",
    "gaussian.fit(x_train, y_train)  \n",
    "Y_pred = gaussian.predict(x_test)  \n",
    "\n",
    "# save model\n",
    "joblib.dump(gaussian, 'Naive_Bayes_model')\n",
    "\n",
    "acc_gaussian = round(gaussian.score(x_train, y_train) * 100, 2)"
   ]
  },
  {
   "cell_type": "code",
   "execution_count": 109,
   "id": "f1ebefc9",
   "metadata": {},
   "outputs": [
    {
     "name": "stderr",
     "output_type": "stream",
     "text": [
      "C:\\Users\\Tugrul\\anaconda3\\lib\\site-packages\\sklearn\\svm\\_base.py:1225: ConvergenceWarning: Liblinear failed to converge, increase the number of iterations.\n",
      "  warnings.warn(\n"
     ]
    }
   ],
   "source": [
    "from sklearn.svm import LinearSVC, SVC\n",
    "linear_svc = LinearSVC()\n",
    "linear_svc.fit(x_train, y_train)\n",
    "\n",
    "Y_pred = linear_svc.predict(x_test)\n",
    "\n",
    "# save model\n",
    "joblib.dump(linear_svc, 'svc_model')\n",
    "\n",
    "acc_linear_svc = round(linear_svc.score(x_train, y_train) * 100, 2)"
   ]
  },
  {
   "cell_type": "code",
   "execution_count": 48,
   "id": "9442f760",
   "metadata": {},
   "outputs": [],
   "source": [
    "from xgboost import XGBClassifier\n",
    "\n",
    "clf = XGBClassifier()\n",
    "clf.fit(x_train, y_train)\n",
    "y_pred = clf.predict(x_test)\n",
    "\n",
    "# save model\n",
    "joblib.dump(clf, 'xgboost_classifer_model')\n",
    "\n",
    "accuracy = accuracy_score(y_test, y_pred)\n",
    "\n",
    "acc_xgb = round(accuracy_score(y_test, y_pred)*100, 2)"
   ]
  },
  {
   "cell_type": "code",
   "execution_count": 49,
   "id": "cd841fc4",
   "metadata": {},
   "outputs": [
    {
     "data": {
      "text/html": [
       "<div>\n",
       "<style scoped>\n",
       "    .dataframe tbody tr th:only-of-type {\n",
       "        vertical-align: middle;\n",
       "    }\n",
       "\n",
       "    .dataframe tbody tr th {\n",
       "        vertical-align: top;\n",
       "    }\n",
       "\n",
       "    .dataframe thead th {\n",
       "        text-align: right;\n",
       "    }\n",
       "</style>\n",
       "<table border=\"1\" class=\"dataframe\">\n",
       "  <thead>\n",
       "    <tr style=\"text-align: right;\">\n",
       "      <th></th>\n",
       "      <th>Model</th>\n",
       "    </tr>\n",
       "    <tr>\n",
       "      <th>Score</th>\n",
       "      <th></th>\n",
       "    </tr>\n",
       "  </thead>\n",
       "  <tbody>\n",
       "    <tr>\n",
       "      <th>89.43</th>\n",
       "      <td>KNN</td>\n",
       "    </tr>\n",
       "    <tr>\n",
       "      <th>84.80</th>\n",
       "      <td>XgBoost</td>\n",
       "    </tr>\n",
       "    <tr>\n",
       "      <th>82.93</th>\n",
       "      <td>Linear SVC</td>\n",
       "    </tr>\n",
       "    <tr>\n",
       "      <th>82.86</th>\n",
       "      <td>Logistic Regression</td>\n",
       "    </tr>\n",
       "    <tr>\n",
       "      <th>77.68</th>\n",
       "      <td>Naive Bayes</td>\n",
       "    </tr>\n",
       "  </tbody>\n",
       "</table>\n",
       "</div>"
      ],
      "text/plain": [
       "                     Model\n",
       "Score                     \n",
       "89.43                  KNN\n",
       "84.80              XgBoost\n",
       "82.93           Linear SVC\n",
       "82.86  Logistic Regression\n",
       "77.68          Naive Bayes"
      ]
     },
     "execution_count": 49,
     "metadata": {},
     "output_type": "execute_result"
    }
   ],
   "source": [
    "results = pd.DataFrame({\n",
    "    'Model': ['Logistic Regression','KNN','Naive Bayes', 'Linear SVC', 'XgBoost'],\n",
    "    'Score': [acc_log, acc_knn, acc_gaussian, acc_linear_svc, acc_xgb]})\n",
    "result_df = results.sort_values(by='Score', ascending=False)\n",
    "result_df = result_df.set_index('Score')\n",
    "result_df"
   ]
  },
  {
   "cell_type": "code",
   "execution_count": 50,
   "id": "6d5196fa",
   "metadata": {},
   "outputs": [
    {
     "data": {
      "text/html": [
       "<div>\n",
       "<style scoped>\n",
       "    .dataframe tbody tr th:only-of-type {\n",
       "        vertical-align: middle;\n",
       "    }\n",
       "\n",
       "    .dataframe tbody tr th {\n",
       "        vertical-align: top;\n",
       "    }\n",
       "\n",
       "    .dataframe thead th {\n",
       "        text-align: right;\n",
       "    }\n",
       "</style>\n",
       "<table border=\"1\" class=\"dataframe\">\n",
       "  <thead>\n",
       "    <tr style=\"text-align: right;\">\n",
       "      <th></th>\n",
       "      <th>importance</th>\n",
       "    </tr>\n",
       "    <tr>\n",
       "      <th>feature</th>\n",
       "      <th></th>\n",
       "    </tr>\n",
       "  </thead>\n",
       "  <tbody>\n",
       "    <tr>\n",
       "      <th>Humidity3pm</th>\n",
       "      <td>0.340</td>\n",
       "    </tr>\n",
       "    <tr>\n",
       "      <th>Pressure3pm</th>\n",
       "      <td>0.061</td>\n",
       "    </tr>\n",
       "    <tr>\n",
       "      <th>Rainfall</th>\n",
       "      <td>0.055</td>\n",
       "    </tr>\n",
       "    <tr>\n",
       "      <th>WindGustSpeed</th>\n",
       "      <td>0.050</td>\n",
       "    </tr>\n",
       "    <tr>\n",
       "      <th>WindGustDir_N</th>\n",
       "      <td>0.034</td>\n",
       "    </tr>\n",
       "    <tr>\n",
       "      <th>WindGustDir_NNW</th>\n",
       "      <td>0.034</td>\n",
       "    </tr>\n",
       "    <tr>\n",
       "      <th>Location</th>\n",
       "      <td>0.028</td>\n",
       "    </tr>\n",
       "    <tr>\n",
       "      <th>Pressure9am</th>\n",
       "      <td>0.027</td>\n",
       "    </tr>\n",
       "    <tr>\n",
       "      <th>WindGustDir_NE</th>\n",
       "      <td>0.025</td>\n",
       "    </tr>\n",
       "    <tr>\n",
       "      <th>WindGustDir_NW</th>\n",
       "      <td>0.024</td>\n",
       "    </tr>\n",
       "  </tbody>\n",
       "</table>\n",
       "</div>"
      ],
      "text/plain": [
       "                 importance\n",
       "feature                    \n",
       "Humidity3pm           0.340\n",
       "Pressure3pm           0.061\n",
       "Rainfall              0.055\n",
       "WindGustSpeed         0.050\n",
       "WindGustDir_N         0.034\n",
       "WindGustDir_NNW       0.034\n",
       "Location              0.028\n",
       "Pressure9am           0.027\n",
       "WindGustDir_NE        0.025\n",
       "WindGustDir_NW        0.024"
      ]
     },
     "execution_count": 50,
     "metadata": {},
     "output_type": "execute_result"
    }
   ],
   "source": [
    "importances = pd.DataFrame({'feature':x_train.columns,'importance':np.round(clf.feature_importances_,3)})\n",
    "importances = importances.sort_values('importance',ascending=False).set_index('feature')\n",
    "importances.head(10)"
   ]
  },
  {
   "cell_type": "code",
   "execution_count": 51,
   "id": "ac759e48",
   "metadata": {},
   "outputs": [
    {
     "data": {
      "text/plain": [
       "[Text(0, 0.5, '0'), Text(0, 1.5, '1')]"
      ]
     },
     "execution_count": 51,
     "metadata": {},
     "output_type": "execute_result"
    },
    {
     "data": {
      "image/png": "[encoded data removed]",
      "text/plain": [
       "<Figure size 432x288 with 2 Axes>"
      ]
     },
     "metadata": {
      "needs_background": "light"
     },
     "output_type": "display_data"
    }
   ],
   "source": [
    "# kNN Confusion Matrix\n",
    "heat_map_cm = sns.heatmap(confusion_matrix(y_test, knn.predict(x_test)), cmap=\"Greens\", annot = True, annot_kws={\"size\": 15}, fmt='d')\n",
    "plt.xlabel(\"Predicted\", fontdict={\"fontsize\" : 15})\n",
    "plt.ylabel(\"Actual\", fontdict={\"fontsize\" : 15})\n",
    "plt.title(\"Australian Weather Dataset Confusion Matrix\", fontdict={'fontsize':18} , color=\"green\")\n",
    "heat_map_cm.set_xticklabels(heat_map_cm.get_xmajorticklabels(), fontsize = 14)\n",
    "heat_map_cm.set_yticklabels(heat_map_cm.get_ymajorticklabels(), fontsize = 14)"
   ]
  },
  {
   "cell_type": "markdown",
   "id": "0b3cacf5",
   "metadata": {},
   "source": [
    "# Dealing with Imbalanced Data\n",
    "\n",
    "## **Method 1 - Oversampling**"
   ]
  },
  {
   "cell_type": "code",
   "execution_count": 52,
   "id": "db823487",
   "metadata": {},
   "outputs": [
    {
     "data": {
      "text/plain": [
       "<AxesSubplot:>"
      ]
     },
     "execution_count": 52,
     "metadata": {},
     "output_type": "execute_result"
    },
    {
     "data": {
      "image/png": "[encoded data removed]",
      "text/plain": [
       "<Figure size 432x288 with 1 Axes>"
      ]
     },
     "metadata": {
      "needs_background": "light"
     },
     "output_type": "display_data"
    }
   ],
   "source": [
    "# imbalanced data.We need to balance data\n",
    "new_australia_weather.RainTomorrow.value_counts().plot.bar()"
   ]
  },
  {
   "cell_type": "code",
   "execution_count": 53,
   "id": "7306e3ba",
   "metadata": {},
   "outputs": [],
   "source": [
    "from imblearn.over_sampling import RandomOverSampler\n",
    "ros = RandomOverSampler(random_state=0)\n",
    "X_resampled, y_resampled = ros.fit_resample(X,Y)"
   ]
  },
  {
   "cell_type": "code",
   "execution_count": 58,
   "id": "94f1bb61",
   "metadata": {},
   "outputs": [
    {
     "data": {
      "text/plain": [
       "Counter({0: 109586, 1: 109586})"
      ]
     },
     "execution_count": 58,
     "metadata": {},
     "output_type": "execute_result"
    }
   ],
   "source": [
    "counter_y_resampler = Counter(y_resampled)\n",
    "counter_y_resampler"
   ]
  },
  {
   "cell_type": "code",
   "execution_count": 101,
   "id": "e6cd09e1",
   "metadata": {},
   "outputs": [
    {
     "data": {
      "text/plain": [
       "109586"
      ]
     },
     "execution_count": 101,
     "metadata": {},
     "output_type": "execute_result"
    }
   ],
   "source": [
    "counter_y_resampler[1]"
   ]
  },
  {
   "cell_type": "markdown",
   "id": "0bebaeb7",
   "metadata": {},
   "source": [
    "**Creating model with oversampling**"
   ]
  },
  {
   "cell_type": "code",
   "execution_count": 104,
   "id": "3a6b4277",
   "metadata": {},
   "outputs": [],
   "source": [
    "knn_ros = KNeighborsClassifier(n_neighbors=3).fit(X_resampled, y_resampled)\n",
    "logreg_ros = LogisticRegression().fit(X_resampled, y_resampled)\n",
    "linear_svc_ros = LinearSVC().fit(X_resampled, y_resampled)\n",
    "nb_ros = GaussianNB().fit(X_resampled, y_resampled)\n",
    "xgb_ros = XGBClassifier().fit(X_resampled, y_resampled)"
   ]
  },
  {
   "cell_type": "markdown",
   "id": "52ec8cbc",
   "metadata": {},
   "source": [
    "**After oversampling**"
   ]
  },
  {
   "cell_type": "code",
   "execution_count": 60,
   "id": "bcfe5853",
   "metadata": {},
   "outputs": [
    {
     "data": {
      "text/plain": [
       "[Text(0, 0.5, '0'), Text(0, 1.5, '1')]"
      ]
     },
     "execution_count": 60,
     "metadata": {},
     "output_type": "execute_result"
    },
    {
     "data": {
      "image/png": "[encoded data removed]",
      "text/plain": [
       "<Figure size 432x288 with 2 Axes>"
      ]
     },
     "metadata": {
      "needs_background": "light"
     },
     "output_type": "display_data"
    }
   ],
   "source": [
    "# after oversampling LinarSVC Confusion Matrix\n",
    "heat_map_cm = sns.heatmap(confusion_matrix(y_test, knn_ros.predict(x_test)), cmap=\"Greens\", annot = True, annot_kws={\"size\": 15}, fmt='d')\n",
    "plt.xlabel(\"Predicted\", fontdict={\"fontsize\" : 15})\n",
    "plt.ylabel(\"Actual\", fontdict={\"fontsize\" : 15})\n",
    "plt.title(\"Australian Air Dataset Confusion Matrix with Oversampling\", fontdict={'fontsize':18} , color=\"green\")\n",
    "heat_map_cm.set_xticklabels(heat_map_cm.get_xmajorticklabels(), fontsize = 14)\n",
    "heat_map_cm.set_yticklabels(heat_map_cm.get_ymajorticklabels(), fontsize = 14)"
   ]
  },
  {
   "cell_type": "markdown",
   "id": "be4a75b4",
   "metadata": {},
   "source": [
    "## **SMOTE - Synthetic Minority Oversampling Technique**"
   ]
  },
  {
   "cell_type": "code",
   "execution_count": 61,
   "id": "13289e65",
   "metadata": {},
   "outputs": [],
   "source": [
    "from imblearn.over_sampling import SMOTE\n",
    "X_smoted, y_smoted = SMOTE(random_state=42).fit_resample(X,Y)"
   ]
  },
  {
   "cell_type": "code",
   "execution_count": 62,
   "id": "b9e2ba76",
   "metadata": {},
   "outputs": [
    {
     "data": {
      "text/plain": [
       "Counter({0: 109586, 1: 109586})"
      ]
     },
     "execution_count": 62,
     "metadata": {},
     "output_type": "execute_result"
    }
   ],
   "source": [
    "Counter(y_smoted)"
   ]
  },
  {
   "cell_type": "markdown",
   "id": "b528a96b",
   "metadata": {},
   "source": [
    "**Creating model with SMOTE**"
   ]
  },
  {
   "cell_type": "code",
   "execution_count": 105,
   "id": "098c0051",
   "metadata": {},
   "outputs": [],
   "source": [
    "knn_smote = KNeighborsClassifier(n_neighbors=3).fit(X_smoted, y_smoted)\n",
    "logreg_smote = LogisticRegression().fit(X_smoted, y_smoted)\n",
    "linear_svc_smote = LinearSVC().fit(X_smoted, y_smoted)\n",
    "nb_smote = GaussianNB().fit(X_smoted, y_smoted)\n",
    "xgb_smote = XGBClassifier().fit(X_smoted, y_smoted)"
   ]
  },
  {
   "cell_type": "markdown",
   "id": "72e1bb4d",
   "metadata": {},
   "source": [
    "**After SMOTE Technique Confusion Matrix**"
   ]
  },
  {
   "cell_type": "code",
   "execution_count": 66,
   "id": "3efe0d16",
   "metadata": {},
   "outputs": [
    {
     "data": {
      "text/plain": [
       "[Text(0, 0.5, '0'), Text(0, 1.5, '1')]"
      ]
     },
     "execution_count": 66,
     "metadata": {},
     "output_type": "execute_result"
    },
    {
     "data": {
      "image/png": "[encoded data removed]",
      "text/plain": [
       "<Figure size 432x288 with 2 Axes>"
      ]
     },
     "metadata": {
      "needs_background": "light"
     },
     "output_type": "display_data"
    }
   ],
   "source": [
    "heat_map_cm = sns.heatmap(confusion_matrix(y_test, xgb_smote.predict(x_test)), cmap=\"Greens\", annot = True, annot_kws={\"size\": 15}, fmt='d')\n",
    "plt.xlabel(\"Predicted\", fontdict={\"fontsize\" : 15})\n",
    "plt.ylabel(\"Actual\", fontdict={\"fontsize\" : 15})\n",
    "plt.title(\"Australian Air Dataset Confusion Matrix with SMOTE\", fontdict={'fontsize':18} , color=\"green\")\n",
    "heat_map_cm.set_xticklabels(heat_map_cm.get_xmajorticklabels(), fontsize = 14)\n",
    "heat_map_cm.set_yticklabels(heat_map_cm.get_ymajorticklabels(), fontsize = 14)"
   ]
  },
  {
   "cell_type": "markdown",
   "id": "1c9e4ab9",
   "metadata": {},
   "source": [
    "## **ADASYN - ADAptive SYNthetic oversampling**"
   ]
  },
  {
   "cell_type": "code",
   "execution_count": 67,
   "id": "efb4a120",
   "metadata": {},
   "outputs": [],
   "source": [
    "from imblearn.over_sampling import ADASYN\n",
    "X_adasyn, y_adasyn = ADASYN(random_state=42).fit_resample(X,Y)"
   ]
  },
  {
   "cell_type": "code",
   "execution_count": 68,
   "id": "01c48add",
   "metadata": {},
   "outputs": [
    {
     "data": {
      "text/plain": [
       "Counter({0: 109586, 1: 114707})"
      ]
     },
     "execution_count": 68,
     "metadata": {},
     "output_type": "execute_result"
    }
   ],
   "source": [
    "Counter(y_adasyn)"
   ]
  },
  {
   "cell_type": "code",
   "execution_count": 106,
   "id": "10d0b908",
   "metadata": {},
   "outputs": [],
   "source": [
    "knn_adasyn = KNeighborsClassifier(n_neighbors=3).fit(X_adasyn, y_adasyn)\n",
    "logreg_adasyn = LogisticRegression().fit(X_adasyn, y_adasyn)\n",
    "linear_svc_adasyn = LinearSVC().fit(X_adasyn, y_adasyn)\n",
    "nb_adasyn = GaussianNB().fit(X_adasyn, y_adasyn)\n",
    "xgb_adasyn = XGBClassifier().fit(X_adasyn, y_adasyn)"
   ]
  },
  {
   "cell_type": "code",
   "execution_count": 70,
   "id": "9879228f",
   "metadata": {},
   "outputs": [
    {
     "data": {
      "text/plain": [
       "[Text(0, 0.5, '0'), Text(0, 1.5, '1')]"
      ]
     },
     "execution_count": 70,
     "metadata": {},
     "output_type": "execute_result"
    },
    {
     "data": {
      "image/png": "[encoded data removed]",
      "text/plain": [
       "<Figure size 432x288 with 2 Axes>"
      ]
     },
     "metadata": {
      "needs_background": "light"
     },
     "output_type": "display_data"
    }
   ],
   "source": [
    "heat_map_cm = sns.heatmap(confusion_matrix(y_test, xgb_adasyn.predict(x_test)), cmap=\"Greens\", annot = True, annot_kws={\"size\": 15}, fmt='d')\n",
    "plt.xlabel(\"Predicted\", fontdict={\"fontsize\" : 15})\n",
    "plt.ylabel(\"Actual\", fontdict={\"fontsize\" : 15})\n",
    "plt.title(\"Australian Air Dataset Confusion Matrix with ADASYN\", fontdict={'fontsize':18} , color=\"green\")\n",
    "heat_map_cm.set_xticklabels(heat_map_cm.get_xmajorticklabels(), fontsize = 14)\n",
    "heat_map_cm.set_yticklabels(heat_map_cm.get_ymajorticklabels(), fontsize = 14)"
   ]
  },
  {
   "cell_type": "markdown",
   "id": "0082b7e6",
   "metadata": {},
   "source": [
    "# Method 2 - Undersampling"
   ]
  },
  {
   "cell_type": "code",
   "execution_count": 81,
   "id": "b1b7e3c7",
   "metadata": {},
   "outputs": [],
   "source": [
    "from imblearn.under_sampling import RandomUnderSampler\n",
    "X_under, y_under = RandomUnderSampler(random_state=42).fit_resample(X,Y)"
   ]
  },
  {
   "cell_type": "code",
   "execution_count": 82,
   "id": "ab5b7644",
   "metadata": {},
   "outputs": [
    {
     "data": {
      "text/plain": [
       "Counter({0: 31201, 1: 31201})"
      ]
     },
     "execution_count": 82,
     "metadata": {},
     "output_type": "execute_result"
    }
   ],
   "source": [
    "Counter(y_under)"
   ]
  },
  {
   "cell_type": "code",
   "execution_count": 107,
   "id": "8eeb1972",
   "metadata": {},
   "outputs": [],
   "source": [
    "knn_rus = KNeighborsClassifier(n_neighbors=3).fit(X_under, y_under)\n",
    "logreg_rus = LogisticRegression().fit(X_under, y_under)\n",
    "linear_svc_rus = LinearSVC().fit(X_under, y_under)\n",
    "nb_rus = GaussianNB().fit(X_under, y_under)\n",
    "xgb_rus = XGBClassifier().fit(X_under, y_under)"
   ]
  },
  {
   "cell_type": "code",
   "execution_count": 88,
   "id": "eda88aed",
   "metadata": {},
   "outputs": [
    {
     "data": {
      "image/png": "[encoded data removed]",
      "text/plain": [
       "<Figure size 432x288 with 2 Axes>"
      ]
     },
     "metadata": {
      "needs_background": "light"
     },
     "output_type": "display_data"
    }
   ],
   "source": [
    "heat_map_cm = sns.heatmap(confusion_matrix(y_test, xgb_rus.predict(x_test)), cmap=\"Greens\", annot = True, annot_kws={\"size\": 15}, fmt='d')\n",
    "plt.xlabel(\"Predicted\", fontdict={\"fontsize\" : 15})\n",
    "plt.ylabel(\"Actual\", fontdict={\"fontsize\" : 15})\n",
    "plt.title(\"Australian Air Dataset Confusion Matrix with Undersampling\", fontdict={'fontsize':18} , color=\"green\")\n",
    "heat_map_cm.set_xticklabels(heat_map_cm.get_xmajorticklabels(), fontsize = 14)\n",
    "heat_map_cm.set_yticklabels(heat_map_cm.get_ymajorticklabels(), fontsize = 14)\n",
    "plt.show()"
   ]
  },
  {
   "cell_type": "markdown",
   "id": "a1cc7943",
   "metadata": {},
   "source": [
    "# Save oversampling and undersampling models"
   ]
  },
  {
   "cell_type": "code",
   "execution_count": 108,
   "id": "e27a278e",
   "metadata": {},
   "outputs": [
    {
     "data": {
      "text/plain": [
       "['knn_rus_model']"
      ]
     },
     "execution_count": 108,
     "metadata": {},
     "output_type": "execute_result"
    }
   ],
   "source": [
    "# kNN\n",
    "joblib.dump(knn_ros, 'knn_ros_model')\n",
    "joblib.dump(knn_smote, 'knn_smote_model')\n",
    "joblib.dump(knn_adasyn, 'knn_adasyn_model')\n",
    "joblib.dump(knn_rus, 'knn_rus_model')"
   ]
  },
  {
   "cell_type": "code",
   "execution_count": 89,
   "id": "6de8b1be",
   "metadata": {},
   "outputs": [
    {
     "data": {
      "text/plain": [
       "['logreg_rus_model']"
      ]
     },
     "execution_count": 89,
     "metadata": {},
     "output_type": "execute_result"
    }
   ],
   "source": [
    "# Logistic Regression\n",
    "joblib.dump(logreg_ros, 'logreg_ros_model')\n",
    "joblib.dump(logreg_smote, 'logreg_smote_model')\n",
    "joblib.dump(logreg_adasyn, 'logreg_adasyn_model')\n",
    "joblib.dump(logreg_rus, 'logreg_rus_model')"
   ]
  },
  {
   "cell_type": "code",
   "execution_count": 90,
   "id": "359e352d",
   "metadata": {},
   "outputs": [
    {
     "data": {
      "text/plain": [
       "['linear_svc_rus_model']"
      ]
     },
     "execution_count": 90,
     "metadata": {},
     "output_type": "execute_result"
    }
   ],
   "source": [
    "# SVC\n",
    "joblib.dump(linear_svc_ros, 'linear_svc_ros_model')\n",
    "joblib.dump(linear_svc_smote, 'linear_svc_smote_model')\n",
    "joblib.dump(linear_svc_adasyn, 'linear_svc_adasyn_model')\n",
    "joblib.dump(linear_svc_rus, 'linear_svc_rus_model')"
   ]
  },
  {
   "cell_type": "code",
   "execution_count": 91,
   "id": "8aba1fd5",
   "metadata": {},
   "outputs": [
    {
     "data": {
      "text/plain": [
       "['nb_rus_model']"
      ]
     },
     "execution_count": 91,
     "metadata": {},
     "output_type": "execute_result"
    }
   ],
   "source": [
    "# Naive Bayes\n",
    "joblib.dump(nb_ros, 'nb_ros_model')\n",
    "joblib.dump(nb_smote, 'nb_smote_model')\n",
    "joblib.dump(nb_adasyn, 'nb_adasyn_model')\n",
    "joblib.dump(nb_rus, 'nb_rus_model')"
   ]
  },
  {
   "cell_type": "code",
   "execution_count": 92,
   "id": "2de363ea",
   "metadata": {},
   "outputs": [
    {
     "data": {
      "text/plain": [
       "['xgb_rus_model']"
      ]
     },
     "execution_count": 92,
     "metadata": {},
     "output_type": "execute_result"
    }
   ],
   "source": [
    "# XgBoostClassifier\n",
    "joblib.dump(xgb_ros, 'xgb_ros_model')\n",
    "joblib.dump(xgb_smote, 'xgb_smote_model')\n",
    "joblib.dump(xgb_adasyn, 'xgb_adasyn_model')\n",
    "joblib.dump(xgb_rus, 'xgb_rus_model')"
   ]
  },
  {
   "cell_type": "code",
   "execution_count": null,
   "id": "50c65fe5",
   "metadata": {},
   "outputs": [],
   "source": [
    "# to load model for example\n",
    "# joblib.load('knn_ros_model')"
   ]
  },
  {
   "cell_type": "code",
   "execution_count": 95,
   "id": "ce0b0f89",
   "metadata": {},
   "outputs": [
    {
     "data": {
      "text/plain": [
       "0    109586\n",
       "1     31201\n",
       "Name: RainTomorrow, dtype: int64"
      ]
     },
     "execution_count": 95,
     "metadata": {},
     "output_type": "execute_result"
    }
   ],
   "source": [
    "new_australia_weather.RainTomorrow.value_counts()"
   ]
  },
  {
   "cell_type": "code",
   "execution_count": 96,
   "id": "c1d674a0",
   "metadata": {},
   "outputs": [],
   "source": [
    "new_australia_weather.to_excel(\"australia_weather.xlsx\")"
   ]
  },
  {
   "cell_type": "code",
   "execution_count": 97,
   "id": "890fcbc4",
   "metadata": {},
   "outputs": [],
   "source": [
    "new_australia_weather.to_csv('australia_weather.csv')"
   ]
  }
 ],
 "metadata": {
  "kernelspec": {
   "display_name": "Python 3 (ipykernel)",
   "language": "python",
   "name": "python3"
  },
  "language_info": {
   "codemirror_mode": {
    "name": "ipython",
    "version": 3
   },
   "file_extension": ".py",
   "mimetype": "text/x-python",
   "name": "python",
   "nbconvert_exporter": "python",
   "pygments_lexer": "ipython3",
   "version": "3.8.12"
  }
 },
 "nbformat": 4,
 "nbformat_minor": 5
}
